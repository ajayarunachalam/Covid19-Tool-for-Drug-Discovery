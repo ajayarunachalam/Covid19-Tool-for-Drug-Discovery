{
 "cells": [
  {
   "cell_type": "code",
   "execution_count": 1,
   "metadata": {},
   "outputs": [
    {
     "name": "stderr",
     "output_type": "stream",
     "text": [
      "c:\\users\\samen\\appdata\\local\\programs\\python\\python37\\lib\\site-packages\\numpy\\core\\__init__.py:29: UserWarning: loaded more than 1 DLL from .libs:\n",
      "c:\\users\\samen\\appdata\\local\\programs\\python\\python37\\lib\\site-packages\\numpy\\.libs\\libopenblas.IPBC74C7KURV7CB2PKT5Z5FNR3SIBV4J.gfortran-win_amd64.dll\n",
      "c:\\users\\samen\\appdata\\local\\programs\\python\\python37\\lib\\site-packages\\numpy\\.libs\\libopenblas.PYQHXLVVQ7VESDPUVUADXEVJOBGHJPAY.gfortran-win_amd64.dll\n",
      "  stacklevel=1)\n",
      "c:\\users\\samen\\appdata\\local\\programs\\python\\python37\\lib\\site-packages\\statsmodels\\tools\\_testing.py:19: FutureWarning: pandas.util.testing is deprecated. Use the functions in the public API at pandas.testing instead.\n",
      "  import pandas.util.testing as tm\n"
     ]
    }
   ],
   "source": [
    "import pandas as pd\n",
    "import numpy as np\n",
    "import urllib\n",
    "import os \n",
    "import requests\n",
    "import matplotlib.pyplot as plt\n",
    "from sklearn.metrics import r2_score\n",
    "import seaborn as seabornInstance \n",
    "from sklearn.model_selection import train_test_split \n",
    "from sklearn.linear_model import LinearRegression\n",
    "from sklearn import metrics\n",
    "get_ipython().magic(u'matplotlib inline')\n",
    "import time"
   ]
  },
  {
   "cell_type": "code",
   "execution_count": 2,
   "metadata": {},
   "outputs": [],
   "source": [
    "link1 = \"https://pubchem.ncbi.nlm.nih.gov/sdq/sdqagent.cgi?infmt=json&outfmt=csv&query={%22download%22:%22*%22,%22collection%22:%22bioactivity%22,%22where%22:{%22ands%22:[{%22protacxn%22:%22notnull%22},{%22cid%22:%22notnull%22},{%22repacxn%22:%22P0C6U8%22}]},%22order%22:[%22activity,asc%22],%22start%22:1,%22limit%22:10000000,%22downloadfilename%22:%22PROTACXN_P0C6U8_bioactivity_protein%22}\""
   ]
  },
  {
   "cell_type": "code",
   "execution_count": 3,
   "metadata": {},
   "outputs": [],
   "source": [
    "for i in range(0,2):\n",
    "    try:\n",
    "        os.remove('downloaded1.csv')\n",
    "        #print(\"Deleted old File\")\n",
    "        break\n",
    "    except Exception as e:\n",
    "        #print(\"No file \")\n",
    "        break\n",
    "    else:\n",
    "        break"
   ]
  },
  {
   "cell_type": "code",
   "execution_count": 4,
   "metadata": {},
   "outputs": [],
   "source": [
    "for i in range(2):\n",
    "    try:\n",
    "        data = pd.read_csv(link1)\n",
    "        break\n",
    "    #except IncompleteRead as I:\n",
    "     #   print(\"Server Overloading , Proceeding\")\n",
    "      #  break\n",
    "    except Exception as a:\n",
    "        print(str(a)+\" is the error , Trying {} time\".format(i))\n",
    "        continue\n",
    "    else:\n",
    "        break\n",
    "else:\n",
    "    print(\"something Wrong , Try running Again [refer error code for more]\")"
   ]
  },
  {
   "cell_type": "code",
   "execution_count": 5,
   "metadata": {},
   "outputs": [],
   "source": [
    "#data = pd.read_csv(\"downloaded1.csv\",error_bad_lines=False)"
   ]
  },
  {
   "cell_type": "code",
   "execution_count": 6,
   "metadata": {},
   "outputs": [
    {
     "data": {
      "text/html": [
       "<div>\n",
       "<style scoped>\n",
       "    .dataframe tbody tr th:only-of-type {\n",
       "        vertical-align: middle;\n",
       "    }\n",
       "\n",
       "    .dataframe tbody tr th {\n",
       "        vertical-align: top;\n",
       "    }\n",
       "\n",
       "    .dataframe thead th {\n",
       "        text-align: right;\n",
       "    }\n",
       "</style>\n",
       "<table border=\"1\" class=\"dataframe\">\n",
       "  <thead>\n",
       "    <tr style=\"text-align: right;\">\n",
       "      <th></th>\n",
       "      <th>baid</th>\n",
       "      <th>activity</th>\n",
       "      <th>aid</th>\n",
       "      <th>sid</th>\n",
       "      <th>mid</th>\n",
       "      <th>cid</th>\n",
       "      <th>geneid</th>\n",
       "      <th>taxid</th>\n",
       "      <th>pmid</th>\n",
       "      <th>aidtype</th>\n",
       "      <th>...</th>\n",
       "      <th>acname</th>\n",
       "      <th>acvalue</th>\n",
       "      <th>aidsrcname</th>\n",
       "      <th>aidname</th>\n",
       "      <th>cmpdname</th>\n",
       "      <th>targetname</th>\n",
       "      <th>targeturl</th>\n",
       "      <th>dois</th>\n",
       "      <th>ecs</th>\n",
       "      <th>repacxn</th>\n",
       "    </tr>\n",
       "  </thead>\n",
       "  <tbody>\n",
       "    <tr>\n",
       "      <th>0</th>\n",
       "      <td>98754968</td>\n",
       "      <td>Active</td>\n",
       "      <td>241511</td>\n",
       "      <td>103458247</td>\n",
       "      <td>0</td>\n",
       "      <td>11667869</td>\n",
       "      <td>NaN</td>\n",
       "      <td>227859</td>\n",
       "      <td>15896959</td>\n",
       "      <td>Confirmatory</td>\n",
       "      <td>...</td>\n",
       "      <td>IC50</td>\n",
       "      <td>0.98</td>\n",
       "      <td>ChEMBL</td>\n",
       "      <td>In vitro inhibitory concentration SARS coronav...</td>\n",
       "      <td>1-Benzo[b]thiophen-2-ylmethyl-7-bromo-1H-indol...</td>\n",
       "      <td>Replicase polyprotein 1a (SARS coronavirus)</td>\n",
       "      <td>/protein/P0C6U8</td>\n",
       "      <td>10.1016/j.bmcl.2005.04.027</td>\n",
       "      <td>3.4.19.12,3.4.22.-,3.4.22.69</td>\n",
       "      <td>P0C6U8</td>\n",
       "    </tr>\n",
       "    <tr>\n",
       "      <th>1</th>\n",
       "      <td>98758767</td>\n",
       "      <td>Active</td>\n",
       "      <td>241749</td>\n",
       "      <td>103458062</td>\n",
       "      <td>0</td>\n",
       "      <td>44398002</td>\n",
       "      <td>NaN</td>\n",
       "      <td>227859</td>\n",
       "      <td>15896959</td>\n",
       "      <td>Confirmatory</td>\n",
       "      <td>...</td>\n",
       "      <td>IC50</td>\n",
       "      <td>9.40</td>\n",
       "      <td>ChEMBL</td>\n",
       "      <td>In vitro inhibitory concentration against SARS...</td>\n",
       "      <td>1-(2-Chloro-4-fluoro-benzyl)-5-iodo-1H-indole-...</td>\n",
       "      <td>Replicase polyprotein 1a (SARS coronavirus)</td>\n",
       "      <td>/protein/P0C6U8</td>\n",
       "      <td>10.1016/j.bmcl.2005.04.027</td>\n",
       "      <td>3.4.19.12,3.4.22.-,3.4.22.69</td>\n",
       "      <td>P0C6U8</td>\n",
       "    </tr>\n",
       "    <tr>\n",
       "      <th>2</th>\n",
       "      <td>98758768</td>\n",
       "      <td>Active</td>\n",
       "      <td>241749</td>\n",
       "      <td>103458580</td>\n",
       "      <td>0</td>\n",
       "      <td>44398207</td>\n",
       "      <td>NaN</td>\n",
       "      <td>227859</td>\n",
       "      <td>15896959</td>\n",
       "      <td>Confirmatory</td>\n",
       "      <td>...</td>\n",
       "      <td>IC50</td>\n",
       "      <td>4.82</td>\n",
       "      <td>ChEMBL</td>\n",
       "      <td>In vitro inhibitory concentration against SARS...</td>\n",
       "      <td>1-Benzo[b]thiophen-2-ylmethyl-5-fluoro-1H-indo...</td>\n",
       "      <td>Replicase polyprotein 1a (SARS coronavirus)</td>\n",
       "      <td>/protein/P0C6U8</td>\n",
       "      <td>10.1016/j.bmcl.2005.04.027</td>\n",
       "      <td>3.4.19.12,3.4.22.-,3.4.22.69</td>\n",
       "      <td>P0C6U8</td>\n",
       "    </tr>\n",
       "    <tr>\n",
       "      <th>3</th>\n",
       "      <td>98758769</td>\n",
       "      <td>Active</td>\n",
       "      <td>241749</td>\n",
       "      <td>103458848</td>\n",
       "      <td>0</td>\n",
       "      <td>44398343</td>\n",
       "      <td>NaN</td>\n",
       "      <td>227859</td>\n",
       "      <td>15896959</td>\n",
       "      <td>Confirmatory</td>\n",
       "      <td>...</td>\n",
       "      <td>IC50</td>\n",
       "      <td>2.00</td>\n",
       "      <td>ChEMBL</td>\n",
       "      <td>In vitro inhibitory concentration against SARS...</td>\n",
       "      <td>1-Benzo[b]thiophen-2-ylmethyl-7-nitro-1H-indol...</td>\n",
       "      <td>Replicase polyprotein 1a (SARS coronavirus)</td>\n",
       "      <td>/protein/P0C6U8</td>\n",
       "      <td>10.1016/j.bmcl.2005.04.027</td>\n",
       "      <td>3.4.19.12,3.4.22.-,3.4.22.69</td>\n",
       "      <td>P0C6U8</td>\n",
       "    </tr>\n",
       "    <tr>\n",
       "      <th>4</th>\n",
       "      <td>98758770</td>\n",
       "      <td>Active</td>\n",
       "      <td>241749</td>\n",
       "      <td>103459046</td>\n",
       "      <td>0</td>\n",
       "      <td>44398436</td>\n",
       "      <td>NaN</td>\n",
       "      <td>227859</td>\n",
       "      <td>15896959</td>\n",
       "      <td>Confirmatory</td>\n",
       "      <td>...</td>\n",
       "      <td>IC50</td>\n",
       "      <td>17.50</td>\n",
       "      <td>ChEMBL</td>\n",
       "      <td>In vitro inhibitory concentration against SARS...</td>\n",
       "      <td>5-Iodo-1-[[5-(piperidine-1-carbonyl)thiophen-2...</td>\n",
       "      <td>Replicase polyprotein 1a (SARS coronavirus)</td>\n",
       "      <td>/protein/P0C6U8</td>\n",
       "      <td>10.1016/j.bmcl.2005.04.027</td>\n",
       "      <td>3.4.19.12,3.4.22.-,3.4.22.69</td>\n",
       "      <td>P0C6U8</td>\n",
       "    </tr>\n",
       "    <tr>\n",
       "      <th>...</th>\n",
       "      <td>...</td>\n",
       "      <td>...</td>\n",
       "      <td>...</td>\n",
       "      <td>...</td>\n",
       "      <td>...</td>\n",
       "      <td>...</td>\n",
       "      <td>...</td>\n",
       "      <td>...</td>\n",
       "      <td>...</td>\n",
       "      <td>...</td>\n",
       "      <td>...</td>\n",
       "      <td>...</td>\n",
       "      <td>...</td>\n",
       "      <td>...</td>\n",
       "      <td>...</td>\n",
       "      <td>...</td>\n",
       "      <td>...</td>\n",
       "      <td>...</td>\n",
       "      <td>...</td>\n",
       "      <td>...</td>\n",
       "      <td>...</td>\n",
       "    </tr>\n",
       "    <tr>\n",
       "      <th>336</th>\n",
       "      <td>424668663</td>\n",
       "      <td>Unspecified</td>\n",
       "      <td>688306</td>\n",
       "      <td>163312872</td>\n",
       "      <td>0</td>\n",
       "      <td>14610613</td>\n",
       "      <td>NaN</td>\n",
       "      <td>227859</td>\n",
       "      <td>22884354</td>\n",
       "      <td>Literature-derived</td>\n",
       "      <td>...</td>\n",
       "      <td>NaN</td>\n",
       "      <td>NaN</td>\n",
       "      <td>ChEMBL</td>\n",
       "      <td>Time dependent inhibition of SARS-CoV PLpro ex...</td>\n",
       "      <td>Methyl tanshinonate</td>\n",
       "      <td>Replicase polyprotein 1a (SARS coronavirus)</td>\n",
       "      <td>/protein/P0C6U8</td>\n",
       "      <td>10.1016/j.bmc.2012.07.038</td>\n",
       "      <td>3.4.19.12,3.4.22.-,3.4.22.69</td>\n",
       "      <td>P0C6U8</td>\n",
       "    </tr>\n",
       "    <tr>\n",
       "      <th>337</th>\n",
       "      <td>424668664</td>\n",
       "      <td>Unspecified</td>\n",
       "      <td>688306</td>\n",
       "      <td>103456666</td>\n",
       "      <td>0</td>\n",
       "      <td>164676</td>\n",
       "      <td>NaN</td>\n",
       "      <td>227859</td>\n",
       "      <td>22884354</td>\n",
       "      <td>Literature-derived</td>\n",
       "      <td>...</td>\n",
       "      <td>NaN</td>\n",
       "      <td>NaN</td>\n",
       "      <td>ChEMBL</td>\n",
       "      <td>Time dependent inhibition of SARS-CoV PLpro ex...</td>\n",
       "      <td>Tanshinone IIA</td>\n",
       "      <td>Replicase polyprotein 1a (SARS coronavirus)</td>\n",
       "      <td>/protein/P0C6U8</td>\n",
       "      <td>10.1016/j.bmc.2012.07.038</td>\n",
       "      <td>3.4.19.12,3.4.22.-,3.4.22.69</td>\n",
       "      <td>P0C6U8</td>\n",
       "    </tr>\n",
       "    <tr>\n",
       "      <th>338</th>\n",
       "      <td>424668665</td>\n",
       "      <td>Unspecified</td>\n",
       "      <td>688306</td>\n",
       "      <td>103521465</td>\n",
       "      <td>0</td>\n",
       "      <td>11425923</td>\n",
       "      <td>NaN</td>\n",
       "      <td>227859</td>\n",
       "      <td>22884354</td>\n",
       "      <td>Literature-derived</td>\n",
       "      <td>...</td>\n",
       "      <td>NaN</td>\n",
       "      <td>NaN</td>\n",
       "      <td>ChEMBL</td>\n",
       "      <td>Time dependent inhibition of SARS-CoV PLpro ex...</td>\n",
       "      <td>Dihydrotanshinone I</td>\n",
       "      <td>Replicase polyprotein 1a (SARS coronavirus)</td>\n",
       "      <td>/protein/P0C6U8</td>\n",
       "      <td>10.1016/j.bmc.2012.07.038</td>\n",
       "      <td>3.4.19.12,3.4.22.-,3.4.22.69</td>\n",
       "      <td>P0C6U8</td>\n",
       "    </tr>\n",
       "    <tr>\n",
       "      <th>339</th>\n",
       "      <td>424668696</td>\n",
       "      <td>Unspecified</td>\n",
       "      <td>688308</td>\n",
       "      <td>103227294</td>\n",
       "      <td>0</td>\n",
       "      <td>160142</td>\n",
       "      <td>NaN</td>\n",
       "      <td>227859</td>\n",
       "      <td>22884354</td>\n",
       "      <td>Confirmatory</td>\n",
       "      <td>...</td>\n",
       "      <td>IC50</td>\n",
       "      <td>78.90</td>\n",
       "      <td>ChEMBL</td>\n",
       "      <td>Inhibition of SARS-CoV PLpro expressed in Esch...</td>\n",
       "      <td>Miltirone</td>\n",
       "      <td>Replicase polyprotein 1a (SARS coronavirus)</td>\n",
       "      <td>/protein/P0C6U8</td>\n",
       "      <td>10.1016/j.bmc.2012.07.038</td>\n",
       "      <td>3.4.19.12,3.4.22.-,3.4.22.69</td>\n",
       "      <td>P0C6U8</td>\n",
       "    </tr>\n",
       "    <tr>\n",
       "      <th>340</th>\n",
       "      <td>424668702</td>\n",
       "      <td>Unspecified</td>\n",
       "      <td>688309</td>\n",
       "      <td>103456480</td>\n",
       "      <td>0</td>\n",
       "      <td>160254</td>\n",
       "      <td>NaN</td>\n",
       "      <td>227859</td>\n",
       "      <td>22884354</td>\n",
       "      <td>Literature-derived</td>\n",
       "      <td>...</td>\n",
       "      <td>NaN</td>\n",
       "      <td>NaN</td>\n",
       "      <td>ChEMBL</td>\n",
       "      <td>Inhibition of SARS-CoV PLpro expressed in Esch...</td>\n",
       "      <td>Cryptotanshinone</td>\n",
       "      <td>Replicase polyprotein 1a (SARS coronavirus)</td>\n",
       "      <td>/protein/P0C6U8</td>\n",
       "      <td>10.1016/j.bmc.2012.07.038</td>\n",
       "      <td>3.4.19.12,3.4.22.-,3.4.22.69</td>\n",
       "      <td>P0C6U8</td>\n",
       "    </tr>\n",
       "  </tbody>\n",
       "</table>\n",
       "<p>341 rows × 24 columns</p>\n",
       "</div>"
      ],
      "text/plain": [
       "          baid     activity     aid        sid  mid       cid  geneid   taxid  \\\n",
       "0     98754968       Active  241511  103458247    0  11667869     NaN  227859   \n",
       "1     98758767       Active  241749  103458062    0  44398002     NaN  227859   \n",
       "2     98758768       Active  241749  103458580    0  44398207     NaN  227859   \n",
       "3     98758769       Active  241749  103458848    0  44398343     NaN  227859   \n",
       "4     98758770       Active  241749  103459046    0  44398436     NaN  227859   \n",
       "..         ...          ...     ...        ...  ...       ...     ...     ...   \n",
       "336  424668663  Unspecified  688306  163312872    0  14610613     NaN  227859   \n",
       "337  424668664  Unspecified  688306  103456666    0    164676     NaN  227859   \n",
       "338  424668665  Unspecified  688306  103521465    0  11425923     NaN  227859   \n",
       "339  424668696  Unspecified  688308  103227294    0    160142     NaN  227859   \n",
       "340  424668702  Unspecified  688309  103456480    0    160254     NaN  227859   \n",
       "\n",
       "         pmid             aidtype  ...  acname  acvalue  aidsrcname  \\\n",
       "0    15896959        Confirmatory  ...    IC50     0.98      ChEMBL   \n",
       "1    15896959        Confirmatory  ...    IC50     9.40      ChEMBL   \n",
       "2    15896959        Confirmatory  ...    IC50     4.82      ChEMBL   \n",
       "3    15896959        Confirmatory  ...    IC50     2.00      ChEMBL   \n",
       "4    15896959        Confirmatory  ...    IC50    17.50      ChEMBL   \n",
       "..        ...                 ...  ...     ...      ...         ...   \n",
       "336  22884354  Literature-derived  ...     NaN      NaN      ChEMBL   \n",
       "337  22884354  Literature-derived  ...     NaN      NaN      ChEMBL   \n",
       "338  22884354  Literature-derived  ...     NaN      NaN      ChEMBL   \n",
       "339  22884354        Confirmatory  ...    IC50    78.90      ChEMBL   \n",
       "340  22884354  Literature-derived  ...     NaN      NaN      ChEMBL   \n",
       "\n",
       "                                               aidname  \\\n",
       "0    In vitro inhibitory concentration SARS coronav...   \n",
       "1    In vitro inhibitory concentration against SARS...   \n",
       "2    In vitro inhibitory concentration against SARS...   \n",
       "3    In vitro inhibitory concentration against SARS...   \n",
       "4    In vitro inhibitory concentration against SARS...   \n",
       "..                                                 ...   \n",
       "336  Time dependent inhibition of SARS-CoV PLpro ex...   \n",
       "337  Time dependent inhibition of SARS-CoV PLpro ex...   \n",
       "338  Time dependent inhibition of SARS-CoV PLpro ex...   \n",
       "339  Inhibition of SARS-CoV PLpro expressed in Esch...   \n",
       "340  Inhibition of SARS-CoV PLpro expressed in Esch...   \n",
       "\n",
       "                                              cmpdname  \\\n",
       "0    1-Benzo[b]thiophen-2-ylmethyl-7-bromo-1H-indol...   \n",
       "1    1-(2-Chloro-4-fluoro-benzyl)-5-iodo-1H-indole-...   \n",
       "2    1-Benzo[b]thiophen-2-ylmethyl-5-fluoro-1H-indo...   \n",
       "3    1-Benzo[b]thiophen-2-ylmethyl-7-nitro-1H-indol...   \n",
       "4    5-Iodo-1-[[5-(piperidine-1-carbonyl)thiophen-2...   \n",
       "..                                                 ...   \n",
       "336                                Methyl tanshinonate   \n",
       "337                                     Tanshinone IIA   \n",
       "338                                Dihydrotanshinone I   \n",
       "339                                          Miltirone   \n",
       "340                                   Cryptotanshinone   \n",
       "\n",
       "                                      targetname        targeturl  \\\n",
       "0    Replicase polyprotein 1a (SARS coronavirus)  /protein/P0C6U8   \n",
       "1    Replicase polyprotein 1a (SARS coronavirus)  /protein/P0C6U8   \n",
       "2    Replicase polyprotein 1a (SARS coronavirus)  /protein/P0C6U8   \n",
       "3    Replicase polyprotein 1a (SARS coronavirus)  /protein/P0C6U8   \n",
       "4    Replicase polyprotein 1a (SARS coronavirus)  /protein/P0C6U8   \n",
       "..                                           ...              ...   \n",
       "336  Replicase polyprotein 1a (SARS coronavirus)  /protein/P0C6U8   \n",
       "337  Replicase polyprotein 1a (SARS coronavirus)  /protein/P0C6U8   \n",
       "338  Replicase polyprotein 1a (SARS coronavirus)  /protein/P0C6U8   \n",
       "339  Replicase polyprotein 1a (SARS coronavirus)  /protein/P0C6U8   \n",
       "340  Replicase polyprotein 1a (SARS coronavirus)  /protein/P0C6U8   \n",
       "\n",
       "                           dois                           ecs repacxn  \n",
       "0    10.1016/j.bmcl.2005.04.027  3.4.19.12,3.4.22.-,3.4.22.69  P0C6U8  \n",
       "1    10.1016/j.bmcl.2005.04.027  3.4.19.12,3.4.22.-,3.4.22.69  P0C6U8  \n",
       "2    10.1016/j.bmcl.2005.04.027  3.4.19.12,3.4.22.-,3.4.22.69  P0C6U8  \n",
       "3    10.1016/j.bmcl.2005.04.027  3.4.19.12,3.4.22.-,3.4.22.69  P0C6U8  \n",
       "4    10.1016/j.bmcl.2005.04.027  3.4.19.12,3.4.22.-,3.4.22.69  P0C6U8  \n",
       "..                          ...                           ...     ...  \n",
       "336   10.1016/j.bmc.2012.07.038  3.4.19.12,3.4.22.-,3.4.22.69  P0C6U8  \n",
       "337   10.1016/j.bmc.2012.07.038  3.4.19.12,3.4.22.-,3.4.22.69  P0C6U8  \n",
       "338   10.1016/j.bmc.2012.07.038  3.4.19.12,3.4.22.-,3.4.22.69  P0C6U8  \n",
       "339   10.1016/j.bmc.2012.07.038  3.4.19.12,3.4.22.-,3.4.22.69  P0C6U8  \n",
       "340   10.1016/j.bmc.2012.07.038  3.4.19.12,3.4.22.-,3.4.22.69  P0C6U8  \n",
       "\n",
       "[341 rows x 24 columns]"
      ]
     },
     "execution_count": 6,
     "metadata": {},
     "output_type": "execute_result"
    }
   ],
   "source": [
    "data = pd.DataFrame(data)\n",
    "data"
   ]
  },
  {
   "cell_type": "code",
   "execution_count": 7,
   "metadata": {},
   "outputs": [],
   "source": [
    "new_data = data[['cid','acvalue']]\n",
    "new_data = new_data.dropna()"
   ]
  },
  {
   "cell_type": "code",
   "execution_count": 8,
   "metadata": {},
   "outputs": [],
   "source": [
    "except_val=0\n",
    "cid_value = new_data['cid'].to_list()\n",
    "PIC50_value = (-np.log10(new_data['acvalue']*10**-6)).to_list()\n",
    "\n",
    "PIC50_value = pd.DataFrame(PIC50_value,columns = [\"y\"])\n",
    "y_data = PIC50_value"
   ]
  },
  {
   "cell_type": "code",
   "execution_count": 9,
   "metadata": {},
   "outputs": [],
   "source": [
    "link = \"https://pubchem.ncbi.nlm.nih.gov/rest/pug/compound/cid/new_link_me/property/MolecularWeight,HeavyAtomCount,XLOGP,Complexity,HBondAcceptorCount,MonoisotopicMass,RotatableBondCount,TPSA/CSV\"\n",
    "link_fixed = \"https://pubchem.ncbi.nlm.nih.gov/rest/pug/compound/cid/new_link_me/property/MolecularWeight,HeavyAtomCount,XLOGP,Complexity,HBondAcceptorCount,MonoisotopicMass,RotatableBondCount,TPSA/CSV\"\n",
    "sub_link = \"https://pubchem.ncbi.nlm.nih.gov/rest/pug/compound/fastsimilarity_2d/cid/replaceme/cids/TXT\"\n",
    "sub_link_fixed = \"https://pubchem.ncbi.nlm.nih.gov/rest/pug/compound/fastsimilarity_2d/cid/replaceme/cids/TXT\"\n",
    "#the link with the required properties.\n",
    "counter = 1"
   ]
  },
  {
   "cell_type": "code",
   "execution_count": 10,
   "metadata": {},
   "outputs": [],
   "source": [
    "final_data_frame = pd.DataFrame()\n",
    "x_data = pd.DataFrame()\n",
    "cid_main_counter=0 \n",
    "for x in cid_value:\n",
    "    for iter_x in range(1000):\n",
    "        try:    \n",
    "            link = link_fixed\n",
    "            link = link.replace(\"new_link_me\",str(x))\n",
    "            data1 = pd.read_csv(link)\n",
    "            data1 = pd.DataFrame(data1)\n",
    "            x_data = x_data.append(data1)\n",
    "            data1 = 0\n",
    "        except Exception as e:\n",
    "            print(\"Exception Encountered as {} .! , Trying again !Iteration : {}\".format(str(e),str(iter_x)))\n",
    "            time.sleep(5)\n",
    "            continue\n",
    "        else:\n",
    "            break\n",
    "    \n",
    "    else:\n",
    "        print(\"Something Wrong with the Trials ! Restart The Algorithm!\")"
   ]
  },
  {
   "cell_type": "code",
   "execution_count": 11,
   "metadata": {},
   "outputs": [],
   "source": [
    "x_data_saved = x_data\n",
    "x_data = x_data_saved\n",
    "n_cid=[]"
   ]
  },
  {
   "cell_type": "code",
   "execution_count": 12,
   "metadata": {},
   "outputs": [],
   "source": [
    "#20 sec Wait_time\n",
    "for i in cid_value:\n",
    "    max_tries = 10\n",
    "    \n",
    "    for iter_ in range(max_tries):\n",
    "        try:\n",
    "            #print(\"inside Try\")\n",
    "            #time.sleep(5)\n",
    "\n",
    "\n",
    "            link = link_fixed\n",
    "            link = link.replace(\"new_link_me\",str(i))\n",
    "            f_data = pd.read_csv(link) \n",
    "            \n",
    "            sub_link = sub_link_fixed\n",
    "            sub_link = sub_link.replace(\"replaceme\",str(i))\n",
    "            res = urllib.request.urlopen(sub_link)\n",
    "            data_sub = res.read()\n",
    "            data_sub = str(data_sub)\n",
    "            data_sub = data_sub.replace(\"\\\\n\",\",\") ; data_sub = data_sub.replace('b',\" \")\n",
    "            data_sub = data_sub.replace(\"'\",\"\"); data_sub = data_sub.replace(\" \",\"\")\n",
    "            n_count_loop = 0 \n",
    "            #time.sleep(3)\n",
    "            #print(\"Going for the loop\")\n",
    "            for j in data_sub.split(\",\"):\n",
    "                n_count_loop+=1\n",
    "                if(len(j)>1):\n",
    "                    if(n_count_loop<=30):\n",
    "                        n_cid.append(j)\n",
    "                    else:\n",
    "                        break\n",
    "                else:\n",
    "                    pass\n",
    "             \n",
    "        except:\n",
    "            if(except_val>=15):\n",
    "                break\n",
    "            else:\n",
    "                print(\"Re-Trying\")\n",
    "                except_val+=1\n",
    "                #time.sleep(3)\n",
    "                continue\n",
    "        else:\n",
    "            break\n",
    "    '''else:\n",
    "        print(\"Either The Network is Down(So no point in continuing ) , Or Some Uknown Error Spotted!. Refer Error Code , Continuing with Fetched Data\")\n",
    "        time.sleep(5)\n",
    "        break'''\n",
    "    \n",
    "    \n",
    "    '''final_data_frame = final_data_frame.append(f_data)\n",
    "    cid_main_counter+=1\n",
    "    final_data_frame.to_csv(\"fdf1.csv\")\n",
    "         \n",
    "   \n",
    "\n",
    "    print(\"Main cid no: {}\".format(cid_main_counter))\n",
    "    #time.sleep(5)'''\n",
    "    \n",
    "\n"
   ]
  },
  {
   "cell_type": "code",
   "execution_count": 13,
   "metadata": {},
   "outputs": [],
   "source": [
    "k_count = 0\n",
    "t_count = 0\n",
    "phase_count=0\n",
    "f_data = pd.DataFrame()"
   ]
  },
  {
   "cell_type": "code",
   "execution_count": null,
   "metadata": {},
   "outputs": [],
   "source": [
    "for k in n_cid:\n",
    "    k_count+=1\n",
    "    t_count+=1\n",
    "    phase_count+=1\n",
    "    for sub_iter in range(10):\n",
    "            try:\n",
    "                if(t_count>=50):\n",
    "                    #print(\"taking Rest\")\n",
    "                    time.sleep(15)\n",
    "                    t_count=0\n",
    "                    \n",
    "                #print(\"Inside Try\"+str(k_count))\n",
    "            \n",
    "                link = link_fixed\n",
    "                link = link.replace(\"new_link_me\",str(k))\n",
    "                #print(\"replacement done\"+str(k_count))\n",
    "                f_data_df = pd.read_csv(link)\n",
    "                f_data = f_data.append(f_data_df)\n",
    "                print(\"Passed Without Exception\"+str(k_count))\n",
    "                break\n",
    "\n",
    "            except Exception as e:\n",
    "                print(str(e) + \"Encountered , Please Wait :+ \"+str(k_count))\n",
    "                time.sleep(20)\n",
    "                continue\n",
    "\n",
    "    final_data_frame = final_data_frame.append(f_data)\n",
    "    cid_main_counter+=1\n",
    "    final_data_frame.to_csv(\"fdf1.csv\")\n",
    "    print(\"Data Fetching Continued\"+ str(k_count))\n",
    "    \n",
    "    final_data_frame.drop_duplicates(inplace=True)\n"
   ]
  },
  {
   "cell_type": "code",
   "execution_count": 15,
   "metadata": {},
   "outputs": [
    {
     "name": "stdout",
     "output_type": "stream",
     "text": [
      "(587, 9)\n",
      "The Final Training DataSet: X_data = (111, 9) , Y_data = (111, 1)\n",
      "The Final Data For Preditcion is : (587, 9)\n"
     ]
    }
   ],
   "source": [
    "print(final_data_frame.shape)\n",
    "final_data_frame.drop_duplicates(inplace=True)\n",
    "print(\"The Final Training DataSet: X_data = {} , Y_data = {}\".format(x_data.shape,y_data.shape))\n",
    "print(\"The Final Data For Preditcion is : {}\".format(final_data_frame.shape))"
   ]
  },
  {
   "cell_type": "code",
   "execution_count": 16,
   "metadata": {},
   "outputs": [],
   "source": [
    "try:\n",
    "    final_data_frame.reset_index(inplace=True)\n",
    "    final_data_frame.drop('index',axis=1,inplace=True)\n",
    "except:\n",
    "    pass\n"
   ]
  },
  {
   "cell_type": "code",
   "execution_count": 17,
   "metadata": {},
   "outputs": [],
   "source": [
    "#DON'T RE-RUN AT ANY COST\n",
    "final_data_frame_reset = final_data_frame\n",
    "x_data_reset = x_data\n",
    "y_data_reset = y_data"
   ]
  },
  {
   "cell_type": "code",
   "execution_count": 18,
   "metadata": {},
   "outputs": [],
   "source": [
    "#fghjk"
   ]
  },
  {
   "cell_type": "markdown",
   "metadata": {},
   "source": [
    " "
   ]
  },
  {
   "cell_type": "markdown",
   "metadata": {},
   "source": [
    " "
   ]
  },
  {
   "cell_type": "markdown",
   "metadata": {},
   "source": [
    "RESETTING THE VALUES : TESTING PURPOSE"
   ]
  },
  {
   "cell_type": "code",
   "execution_count": 143,
   "metadata": {},
   "outputs": [
    {
     "data": {
      "text/plain": [
       "'#RUN TO RESET ONLY : TESTING CAUTION\\nfinal_data_frame = final_data_frame_reset\\nx_data = x_data_reset\\ny_data = y_data_reset'"
      ]
     },
     "execution_count": 143,
     "metadata": {},
     "output_type": "execute_result"
    }
   ],
   "source": [
    "'''#RUN TO RESET ONLY : TESTING CAUTION\n",
    "final_data_frame = final_data_frame_reset\n",
    "x_data = x_data_reset\n",
    "y_data = y_data_reset'''"
   ]
  },
  {
   "cell_type": "code",
   "execution_count": 144,
   "metadata": {},
   "outputs": [],
   "source": [
    "x_data = pd.DataFrame(x_data)"
   ]
  },
  {
   "cell_type": "code",
   "execution_count": 145,
   "metadata": {},
   "outputs": [],
   "source": [
    "y_data = pd.DataFrame(y_data)"
   ]
  },
  {
   "cell_type": "code",
   "execution_count": 146,
   "metadata": {},
   "outputs": [
    {
     "name": "stdout",
     "output_type": "stream",
     "text": [
      "X :- (111, 9) Y :- (111, 1)\n"
     ]
    }
   ],
   "source": [
    "print(\"X :- \"+str(x_data.shape)+\" Y :- \"+str(y_data.shape) )"
   ]
  },
  {
   "cell_type": "code",
   "execution_count": 147,
   "metadata": {},
   "outputs": [],
   "source": [
    "train_file = pd.DataFrame()\n",
    "x_data = x_data.astype(\"float64\")\n",
    "y_data = y_data.astype(\"float64\")"
   ]
  },
  {
   "cell_type": "code",
   "execution_count": 148,
   "metadata": {},
   "outputs": [
    {
     "data": {
      "text/html": [
       "<div>\n",
       "<style scoped>\n",
       "    .dataframe tbody tr th:only-of-type {\n",
       "        vertical-align: middle;\n",
       "    }\n",
       "\n",
       "    .dataframe tbody tr th {\n",
       "        vertical-align: top;\n",
       "    }\n",
       "\n",
       "    .dataframe thead th {\n",
       "        text-align: right;\n",
       "    }\n",
       "</style>\n",
       "<table border=\"1\" class=\"dataframe\">\n",
       "  <thead>\n",
       "    <tr style=\"text-align: right;\">\n",
       "      <th></th>\n",
       "      <th>CID</th>\n",
       "      <th>MolecularWeight</th>\n",
       "      <th>HeavyAtomCount</th>\n",
       "      <th>XLogP</th>\n",
       "      <th>Complexity</th>\n",
       "      <th>HBondAcceptorCount</th>\n",
       "      <th>MonoisotopicMass</th>\n",
       "      <th>RotatableBondCount</th>\n",
       "      <th>TPSA</th>\n",
       "    </tr>\n",
       "  </thead>\n",
       "  <tbody>\n",
       "    <tr>\n",
       "      <th>0</th>\n",
       "      <td>11667869.0</td>\n",
       "      <td>372.20</td>\n",
       "      <td>22.0</td>\n",
       "      <td>4.1</td>\n",
       "      <td>485.0</td>\n",
       "      <td>3.0</td>\n",
       "      <td>370.961560</td>\n",
       "      <td>2.0</td>\n",
       "      <td>65.6</td>\n",
       "    </tr>\n",
       "    <tr>\n",
       "      <th>0</th>\n",
       "      <td>44398002.0</td>\n",
       "      <td>415.58</td>\n",
       "      <td>21.0</td>\n",
       "      <td>3.8</td>\n",
       "      <td>449.0</td>\n",
       "      <td>3.0</td>\n",
       "      <td>414.927230</td>\n",
       "      <td>2.0</td>\n",
       "      <td>37.4</td>\n",
       "    </tr>\n",
       "    <tr>\n",
       "      <th>0</th>\n",
       "      <td>44398207.0</td>\n",
       "      <td>311.30</td>\n",
       "      <td>22.0</td>\n",
       "      <td>3.5</td>\n",
       "      <td>485.0</td>\n",
       "      <td>4.0</td>\n",
       "      <td>311.041628</td>\n",
       "      <td>2.0</td>\n",
       "      <td>65.6</td>\n",
       "    </tr>\n",
       "    <tr>\n",
       "      <th>0</th>\n",
       "      <td>44398343.0</td>\n",
       "      <td>338.30</td>\n",
       "      <td>24.0</td>\n",
       "      <td>3.3</td>\n",
       "      <td>563.0</td>\n",
       "      <td>5.0</td>\n",
       "      <td>338.036128</td>\n",
       "      <td>2.0</td>\n",
       "      <td>111.0</td>\n",
       "    </tr>\n",
       "    <tr>\n",
       "      <th>0</th>\n",
       "      <td>44398436.0</td>\n",
       "      <td>480.30</td>\n",
       "      <td>26.0</td>\n",
       "      <td>3.4</td>\n",
       "      <td>595.0</td>\n",
       "      <td>4.0</td>\n",
       "      <td>480.000460</td>\n",
       "      <td>3.0</td>\n",
       "      <td>85.9</td>\n",
       "    </tr>\n",
       "  </tbody>\n",
       "</table>\n",
       "</div>"
      ],
      "text/plain": [
       "          CID  MolecularWeight  HeavyAtomCount  XLogP  Complexity  \\\n",
       "0  11667869.0           372.20            22.0    4.1       485.0   \n",
       "0  44398002.0           415.58            21.0    3.8       449.0   \n",
       "0  44398207.0           311.30            22.0    3.5       485.0   \n",
       "0  44398343.0           338.30            24.0    3.3       563.0   \n",
       "0  44398436.0           480.30            26.0    3.4       595.0   \n",
       "\n",
       "   HBondAcceptorCount  MonoisotopicMass  RotatableBondCount   TPSA  \n",
       "0                 3.0        370.961560                 2.0   65.6  \n",
       "0                 3.0        414.927230                 2.0   37.4  \n",
       "0                 4.0        311.041628                 2.0   65.6  \n",
       "0                 5.0        338.036128                 2.0  111.0  \n",
       "0                 4.0        480.000460                 3.0   85.9  "
      ]
     },
     "execution_count": 148,
     "metadata": {},
     "output_type": "execute_result"
    }
   ],
   "source": [
    "x_data.head()"
   ]
  },
  {
   "cell_type": "code",
   "execution_count": 149,
   "metadata": {},
   "outputs": [
    {
     "data": {
      "text/html": [
       "<div>\n",
       "<style scoped>\n",
       "    .dataframe tbody tr th:only-of-type {\n",
       "        vertical-align: middle;\n",
       "    }\n",
       "\n",
       "    .dataframe tbody tr th {\n",
       "        vertical-align: top;\n",
       "    }\n",
       "\n",
       "    .dataframe thead th {\n",
       "        text-align: right;\n",
       "    }\n",
       "</style>\n",
       "<table border=\"1\" class=\"dataframe\">\n",
       "  <thead>\n",
       "    <tr style=\"text-align: right;\">\n",
       "      <th></th>\n",
       "      <th>y</th>\n",
       "    </tr>\n",
       "  </thead>\n",
       "  <tbody>\n",
       "    <tr>\n",
       "      <th>0</th>\n",
       "      <td>6.008774</td>\n",
       "    </tr>\n",
       "    <tr>\n",
       "      <th>1</th>\n",
       "      <td>5.026872</td>\n",
       "    </tr>\n",
       "    <tr>\n",
       "      <th>2</th>\n",
       "      <td>5.316953</td>\n",
       "    </tr>\n",
       "    <tr>\n",
       "      <th>3</th>\n",
       "      <td>5.698970</td>\n",
       "    </tr>\n",
       "    <tr>\n",
       "      <th>4</th>\n",
       "      <td>4.756962</td>\n",
       "    </tr>\n",
       "  </tbody>\n",
       "</table>\n",
       "</div>"
      ],
      "text/plain": [
       "          y\n",
       "0  6.008774\n",
       "1  5.026872\n",
       "2  5.316953\n",
       "3  5.698970\n",
       "4  4.756962"
      ]
     },
     "execution_count": 149,
     "metadata": {},
     "output_type": "execute_result"
    }
   ],
   "source": [
    "y_data.head()"
   ]
  },
  {
   "cell_type": "code",
   "execution_count": 150,
   "metadata": {},
   "outputs": [
    {
     "data": {
      "text/html": [
       "<div>\n",
       "<style scoped>\n",
       "    .dataframe tbody tr th:only-of-type {\n",
       "        vertical-align: middle;\n",
       "    }\n",
       "\n",
       "    .dataframe tbody tr th {\n",
       "        vertical-align: top;\n",
       "    }\n",
       "\n",
       "    .dataframe thead th {\n",
       "        text-align: right;\n",
       "    }\n",
       "</style>\n",
       "<table border=\"1\" class=\"dataframe\">\n",
       "  <thead>\n",
       "    <tr style=\"text-align: right;\">\n",
       "      <th></th>\n",
       "      <th>CID</th>\n",
       "      <th>MolecularWeight</th>\n",
       "      <th>HeavyAtomCount</th>\n",
       "      <th>XLogP</th>\n",
       "      <th>Complexity</th>\n",
       "      <th>HBondAcceptorCount</th>\n",
       "      <th>MonoisotopicMass</th>\n",
       "      <th>RotatableBondCount</th>\n",
       "      <th>TPSA</th>\n",
       "    </tr>\n",
       "  </thead>\n",
       "  <tbody>\n",
       "    <tr>\n",
       "      <th>0</th>\n",
       "      <td>11667869.0</td>\n",
       "      <td>372.20</td>\n",
       "      <td>22.0</td>\n",
       "      <td>4.1</td>\n",
       "      <td>485.0</td>\n",
       "      <td>3.0</td>\n",
       "      <td>370.961560</td>\n",
       "      <td>2.0</td>\n",
       "      <td>65.6</td>\n",
       "    </tr>\n",
       "    <tr>\n",
       "      <th>0</th>\n",
       "      <td>44398002.0</td>\n",
       "      <td>415.58</td>\n",
       "      <td>21.0</td>\n",
       "      <td>3.8</td>\n",
       "      <td>449.0</td>\n",
       "      <td>3.0</td>\n",
       "      <td>414.927230</td>\n",
       "      <td>2.0</td>\n",
       "      <td>37.4</td>\n",
       "    </tr>\n",
       "    <tr>\n",
       "      <th>0</th>\n",
       "      <td>44398207.0</td>\n",
       "      <td>311.30</td>\n",
       "      <td>22.0</td>\n",
       "      <td>3.5</td>\n",
       "      <td>485.0</td>\n",
       "      <td>4.0</td>\n",
       "      <td>311.041628</td>\n",
       "      <td>2.0</td>\n",
       "      <td>65.6</td>\n",
       "    </tr>\n",
       "    <tr>\n",
       "      <th>0</th>\n",
       "      <td>44398343.0</td>\n",
       "      <td>338.30</td>\n",
       "      <td>24.0</td>\n",
       "      <td>3.3</td>\n",
       "      <td>563.0</td>\n",
       "      <td>5.0</td>\n",
       "      <td>338.036128</td>\n",
       "      <td>2.0</td>\n",
       "      <td>111.0</td>\n",
       "    </tr>\n",
       "    <tr>\n",
       "      <th>0</th>\n",
       "      <td>44398436.0</td>\n",
       "      <td>480.30</td>\n",
       "      <td>26.0</td>\n",
       "      <td>3.4</td>\n",
       "      <td>595.0</td>\n",
       "      <td>4.0</td>\n",
       "      <td>480.000460</td>\n",
       "      <td>3.0</td>\n",
       "      <td>85.9</td>\n",
       "    </tr>\n",
       "  </tbody>\n",
       "</table>\n",
       "</div>"
      ],
      "text/plain": [
       "          CID  MolecularWeight  HeavyAtomCount  XLogP  Complexity  \\\n",
       "0  11667869.0           372.20            22.0    4.1       485.0   \n",
       "0  44398002.0           415.58            21.0    3.8       449.0   \n",
       "0  44398207.0           311.30            22.0    3.5       485.0   \n",
       "0  44398343.0           338.30            24.0    3.3       563.0   \n",
       "0  44398436.0           480.30            26.0    3.4       595.0   \n",
       "\n",
       "   HBondAcceptorCount  MonoisotopicMass  RotatableBondCount   TPSA  \n",
       "0                 3.0        370.961560                 2.0   65.6  \n",
       "0                 3.0        414.927230                 2.0   37.4  \n",
       "0                 4.0        311.041628                 2.0   65.6  \n",
       "0                 5.0        338.036128                 2.0  111.0  \n",
       "0                 4.0        480.000460                 3.0   85.9  "
      ]
     },
     "execution_count": 150,
     "metadata": {},
     "output_type": "execute_result"
    }
   ],
   "source": [
    "x_data.head()"
   ]
  },
  {
   "cell_type": "code",
   "execution_count": 151,
   "metadata": {},
   "outputs": [],
   "source": [
    "new = y_data['y'].to_list()"
   ]
  },
  {
   "cell_type": "code",
   "execution_count": 152,
   "metadata": {},
   "outputs": [],
   "source": [
    "train_file  = x_data\n",
    "train_file['y'] = new"
   ]
  },
  {
   "cell_type": "code",
   "execution_count": 153,
   "metadata": {},
   "outputs": [],
   "source": [
    "cid_reg_list=train_file['CID'].to_list()\n",
    "train_file.drop('CID',axis=1,inplace =True)\n"
   ]
  },
  {
   "cell_type": "code",
   "execution_count": 154,
   "metadata": {},
   "outputs": [
    {
     "data": {
      "text/html": [
       "<div>\n",
       "<style scoped>\n",
       "    .dataframe tbody tr th:only-of-type {\n",
       "        vertical-align: middle;\n",
       "    }\n",
       "\n",
       "    .dataframe tbody tr th {\n",
       "        vertical-align: top;\n",
       "    }\n",
       "\n",
       "    .dataframe thead th {\n",
       "        text-align: right;\n",
       "    }\n",
       "</style>\n",
       "<table border=\"1\" class=\"dataframe\">\n",
       "  <thead>\n",
       "    <tr style=\"text-align: right;\">\n",
       "      <th></th>\n",
       "      <th>MolecularWeight</th>\n",
       "      <th>HeavyAtomCount</th>\n",
       "      <th>XLogP</th>\n",
       "      <th>Complexity</th>\n",
       "      <th>HBondAcceptorCount</th>\n",
       "      <th>MonoisotopicMass</th>\n",
       "      <th>RotatableBondCount</th>\n",
       "      <th>TPSA</th>\n",
       "      <th>y</th>\n",
       "    </tr>\n",
       "  </thead>\n",
       "  <tbody>\n",
       "    <tr>\n",
       "      <th>0</th>\n",
       "      <td>372.20</td>\n",
       "      <td>22.0</td>\n",
       "      <td>4.1</td>\n",
       "      <td>485.0</td>\n",
       "      <td>3.0</td>\n",
       "      <td>370.961560</td>\n",
       "      <td>2.0</td>\n",
       "      <td>65.6</td>\n",
       "      <td>6.008774</td>\n",
       "    </tr>\n",
       "    <tr>\n",
       "      <th>0</th>\n",
       "      <td>415.58</td>\n",
       "      <td>21.0</td>\n",
       "      <td>3.8</td>\n",
       "      <td>449.0</td>\n",
       "      <td>3.0</td>\n",
       "      <td>414.927230</td>\n",
       "      <td>2.0</td>\n",
       "      <td>37.4</td>\n",
       "      <td>5.026872</td>\n",
       "    </tr>\n",
       "    <tr>\n",
       "      <th>0</th>\n",
       "      <td>311.30</td>\n",
       "      <td>22.0</td>\n",
       "      <td>3.5</td>\n",
       "      <td>485.0</td>\n",
       "      <td>4.0</td>\n",
       "      <td>311.041628</td>\n",
       "      <td>2.0</td>\n",
       "      <td>65.6</td>\n",
       "      <td>5.316953</td>\n",
       "    </tr>\n",
       "    <tr>\n",
       "      <th>0</th>\n",
       "      <td>338.30</td>\n",
       "      <td>24.0</td>\n",
       "      <td>3.3</td>\n",
       "      <td>563.0</td>\n",
       "      <td>5.0</td>\n",
       "      <td>338.036128</td>\n",
       "      <td>2.0</td>\n",
       "      <td>111.0</td>\n",
       "      <td>5.698970</td>\n",
       "    </tr>\n",
       "    <tr>\n",
       "      <th>0</th>\n",
       "      <td>480.30</td>\n",
       "      <td>26.0</td>\n",
       "      <td>3.4</td>\n",
       "      <td>595.0</td>\n",
       "      <td>4.0</td>\n",
       "      <td>480.000460</td>\n",
       "      <td>3.0</td>\n",
       "      <td>85.9</td>\n",
       "      <td>4.756962</td>\n",
       "    </tr>\n",
       "    <tr>\n",
       "      <th>...</th>\n",
       "      <td>...</td>\n",
       "      <td>...</td>\n",
       "      <td>...</td>\n",
       "      <td>...</td>\n",
       "      <td>...</td>\n",
       "      <td>...</td>\n",
       "      <td>...</td>\n",
       "      <td>...</td>\n",
       "      <td>...</td>\n",
       "    </tr>\n",
       "    <tr>\n",
       "      <th>0</th>\n",
       "      <td>310.30</td>\n",
       "      <td>23.0</td>\n",
       "      <td>2.9</td>\n",
       "      <td>530.0</td>\n",
       "      <td>4.0</td>\n",
       "      <td>310.120509</td>\n",
       "      <td>1.0</td>\n",
       "      <td>67.5</td>\n",
       "      <td>4.283997</td>\n",
       "    </tr>\n",
       "    <tr>\n",
       "      <th>0</th>\n",
       "      <td>282.40</td>\n",
       "      <td>21.0</td>\n",
       "      <td>4.9</td>\n",
       "      <td>498.0</td>\n",
       "      <td>2.0</td>\n",
       "      <td>282.161980</td>\n",
       "      <td>1.0</td>\n",
       "      <td>34.1</td>\n",
       "      <td>4.220404</td>\n",
       "    </tr>\n",
       "    <tr>\n",
       "      <th>0</th>\n",
       "      <td>296.40</td>\n",
       "      <td>22.0</td>\n",
       "      <td>3.8</td>\n",
       "      <td>571.0</td>\n",
       "      <td>3.0</td>\n",
       "      <td>296.141245</td>\n",
       "      <td>0.0</td>\n",
       "      <td>43.4</td>\n",
       "      <td>4.057496</td>\n",
       "    </tr>\n",
       "    <tr>\n",
       "      <th>0</th>\n",
       "      <td>296.40</td>\n",
       "      <td>22.0</td>\n",
       "      <td>3.8</td>\n",
       "      <td>571.0</td>\n",
       "      <td>3.0</td>\n",
       "      <td>296.141245</td>\n",
       "      <td>0.0</td>\n",
       "      <td>43.4</td>\n",
       "      <td>3.644548</td>\n",
       "    </tr>\n",
       "    <tr>\n",
       "      <th>0</th>\n",
       "      <td>282.40</td>\n",
       "      <td>21.0</td>\n",
       "      <td>4.9</td>\n",
       "      <td>498.0</td>\n",
       "      <td>2.0</td>\n",
       "      <td>282.161980</td>\n",
       "      <td>1.0</td>\n",
       "      <td>34.1</td>\n",
       "      <td>4.102923</td>\n",
       "    </tr>\n",
       "  </tbody>\n",
       "</table>\n",
       "<p>111 rows × 9 columns</p>\n",
       "</div>"
      ],
      "text/plain": [
       "    MolecularWeight  HeavyAtomCount  XLogP  Complexity  HBondAcceptorCount  \\\n",
       "0            372.20            22.0    4.1       485.0                 3.0   \n",
       "0            415.58            21.0    3.8       449.0                 3.0   \n",
       "0            311.30            22.0    3.5       485.0                 4.0   \n",
       "0            338.30            24.0    3.3       563.0                 5.0   \n",
       "0            480.30            26.0    3.4       595.0                 4.0   \n",
       "..              ...             ...    ...         ...                 ...   \n",
       "0            310.30            23.0    2.9       530.0                 4.0   \n",
       "0            282.40            21.0    4.9       498.0                 2.0   \n",
       "0            296.40            22.0    3.8       571.0                 3.0   \n",
       "0            296.40            22.0    3.8       571.0                 3.0   \n",
       "0            282.40            21.0    4.9       498.0                 2.0   \n",
       "\n",
       "    MonoisotopicMass  RotatableBondCount   TPSA         y  \n",
       "0         370.961560                 2.0   65.6  6.008774  \n",
       "0         414.927230                 2.0   37.4  5.026872  \n",
       "0         311.041628                 2.0   65.6  5.316953  \n",
       "0         338.036128                 2.0  111.0  5.698970  \n",
       "0         480.000460                 3.0   85.9  4.756962  \n",
       "..               ...                 ...    ...       ...  \n",
       "0         310.120509                 1.0   67.5  4.283997  \n",
       "0         282.161980                 1.0   34.1  4.220404  \n",
       "0         296.141245                 0.0   43.4  4.057496  \n",
       "0         296.141245                 0.0   43.4  3.644548  \n",
       "0         282.161980                 1.0   34.1  4.102923  \n",
       "\n",
       "[111 rows x 9 columns]"
      ]
     },
     "execution_count": 154,
     "metadata": {},
     "output_type": "execute_result"
    }
   ],
   "source": [
    "for x in train_file.isnull().any():\n",
    "    if x == True:\n",
    "        train_file = train_file.fillna(method='ffill')\n",
    "train_file"
   ]
  },
  {
   "cell_type": "code",
   "execution_count": 155,
   "metadata": {},
   "outputs": [],
   "source": [
    "x = list(train_file.columns)\n",
    "x = x[:-1]\n",
    "\n",
    "x_ = train_file[x].values\n",
    "y_ = train_file['y'].values"
   ]
  },
  {
   "cell_type": "code",
   "execution_count": 156,
   "metadata": {},
   "outputs": [],
   "source": [
    "train_file.describe()\n",
    "x_ = x_.astype(\"float64\")\n",
    "y_ = y_.astype(\"float64\")"
   ]
  },
  {
   "cell_type": "code",
   "execution_count": 158,
   "metadata": {},
   "outputs": [],
   "source": [
    "X_train, X_test, y_train, y_test = train_test_split(x_, y_, test_size=0.1, random_state=0)\n"
   ]
  },
  {
   "cell_type": "markdown",
   "metadata": {},
   "source": [
    " "
   ]
  },
  {
   "cell_type": "markdown",
   "metadata": {},
   "source": [
    "REGRESSION STARTS - 1,2,3 "
   ]
  },
  {
   "cell_type": "code",
   "execution_count": 159,
   "metadata": {},
   "outputs": [],
   "source": [
    "from sklearn.preprocessing import PolynomialFeatures\n",
    "from sklearn.pipeline import make_pipeline\n",
    "from sklearn.linear_model import LinearRegression\n",
    "from sklearn import preprocessing"
   ]
  },
  {
   "cell_type": "code",
   "execution_count": 160,
   "metadata": {},
   "outputs": [
    {
     "data": {
      "text/plain": [
       "Pipeline(memory=None,\n",
       "         steps=[('polynomialfeatures',\n",
       "                 PolynomialFeatures(degree=1, include_bias=True,\n",
       "                                    interaction_only=False, order='C')),\n",
       "                ('standardscaler',\n",
       "                 StandardScaler(copy=True, with_mean=True, with_std=True)),\n",
       "                ('linearregression',\n",
       "                 LinearRegression(copy_X=True, fit_intercept=True, n_jobs=None,\n",
       "                                  normalize=False))],\n",
       "         verbose=False)"
      ]
     },
     "execution_count": 160,
     "metadata": {},
     "output_type": "execute_result"
    }
   ],
   "source": [
    "#poly regression - degree 1\n",
    "scaler = preprocessing.StandardScaler()\n",
    "degree=1\n",
    "polyreg_scaled=make_pipeline(PolynomialFeatures(degree),scaler,LinearRegression())\n",
    "polyreg_scaled.fit(X_train,y_train)"
   ]
  },
  {
   "cell_type": "code",
   "execution_count": 161,
   "metadata": {},
   "outputs": [
    {
     "data": {
      "text/plain": [
       "0.4165730913438246"
      ]
     },
     "execution_count": 161,
     "metadata": {},
     "output_type": "execute_result"
    }
   ],
   "source": [
    "#R2 Score\n",
    "y_pred = polyreg_scaled.predict(X_test)\n",
    "main_r2 = r2_score(y_test, y_pred, multioutput='uniform_average')\n",
    "max_ = main_r2 \n",
    "max_"
   ]
  },
  {
   "cell_type": "code",
   "execution_count": 162,
   "metadata": {},
   "outputs": [],
   "source": [
    "from itertools import combinations\n",
    "comb_list = [[]]"
   ]
  },
  {
   "cell_type": "code",
   "execution_count": 163,
   "metadata": {},
   "outputs": [],
   "source": [
    "#creating combinations , function\n",
    "def sub(arr,r):\n",
    "    global comb_list\n",
    "    for i in r:\n",
    "        comb = list(combinations(arr,i))\n",
    "        comb_list.append(comb)\n",
    "    return comb_list\n",
    "newone = 0\n",
    "newone = sub(x , [2,3,4,5,6])\n",
    "del newone[0]"
   ]
  },
  {
   "cell_type": "code",
   "execution_count": 164,
   "metadata": {},
   "outputs": [],
   "source": [
    "#Trying combinations for degree one and degree 2 only "
   ]
  },
  {
   "cell_type": "code",
   "execution_count": 165,
   "metadata": {},
   "outputs": [],
   "source": [
    "#degree 1 \n",
    "coef_dict  = 0\n",
    "loop_index = 0\n",
    "coef_dict = [[]]\n",
    "r2_score_new =[]\n",
    "max_r2 = []\n",
    "index_r2 =[]\n",
    "for i in range(0,len(newone)):\n",
    "    \n",
    "    index_r=0\n",
    "    for combi_ in newone[loop_index]:\n",
    "        \n",
    "        #print(combi_)\n",
    "        features = list(combi_)\n",
    "        features_=train_file[features].values\n",
    "        output_=train_file['y'].values\n",
    "        X_train, X_test, y_train, y_test = train_test_split(features_, output_, test_size=0.1, random_state=0)\n",
    "        scaler = preprocessing.StandardScaler()\n",
    "        degree=1\n",
    "        polyreg_scaled=make_pipeline(PolynomialFeatures(degree),scaler,LinearRegression())\n",
    "        polyreg_scaled.fit(X_train,y_train)\n",
    "        y_pred = polyreg_scaled.predict(X_test)\n",
    "        r2_score_  = r2_score(y_test, y_pred, multioutput='uniform_average')\n",
    "        r2_score_new.append(r2_score_)\n",
    "    loop_index+=1\n",
    "        \n",
    "    \n",
    "    max_r2.append(max(r2_score_new))\n",
    "    index_r = r2_score_new.index(max(r2_score_new))\n",
    "    index_r2.append(index_r)\n",
    "    r2_score_new =[]"
   ]
  },
  {
   "cell_type": "code",
   "execution_count": 166,
   "metadata": {},
   "outputs": [],
   "source": [
    "#Extracting the best value so far using the regressor\n",
    "sec_index = max_r2.index(max(max_r2))\n",
    "fir_index = index_r2[sec_index]\n"
   ]
  },
  {
   "cell_type": "code",
   "execution_count": 167,
   "metadata": {},
   "outputs": [],
   "source": [
    "if main_r2 > max(max_r2):\n",
    "    r2_features = x\n",
    "else:\n",
    "    \n",
    "    features  = newone[sec_index][fir_index]\n",
    "    maxi_r2 = max(max_r2)"
   ]
  },
  {
   "cell_type": "code",
   "execution_count": 168,
   "metadata": {},
   "outputs": [
    {
     "name": "stdout",
     "output_type": "stream",
     "text": [
      "R2 - degree1 = 0.5609045637252951\n",
      "Features = ('MolecularWeight', 'XLogP', 'Complexity', 'MonoisotopicMass', 'TPSA')\n"
     ]
    }
   ],
   "source": [
    "print(\"R2 - degree1 = \" + str(maxi_r2)+str(\"\\n\")+str(\"Features = \")+str(features))\n",
    "reg_max_r2 = max(max_r2)"
   ]
  },
  {
   "cell_type": "code",
   "execution_count": 169,
   "metadata": {},
   "outputs": [],
   "source": [
    "#We have the best degree 1 model\n",
    "model_dict = {}\n",
    "model_dict[1]=[maxi_r2,features]"
   ]
  },
  {
   "cell_type": "code",
   "execution_count": 170,
   "metadata": {},
   "outputs": [],
   "source": [
    "for x in train_file.isnull().any():\n",
    "    if x == True:\n",
    "        train_file = train_file.fillna(method='ffill')"
   ]
  },
  {
   "cell_type": "code",
   "execution_count": 171,
   "metadata": {},
   "outputs": [],
   "source": [
    "#degree 2\n",
    "coef_dict  = 0\n",
    "loop_index = 0\n",
    "coef_dict = [[]]\n",
    "r2_score_new =[]\n",
    "max_r2 = []\n",
    "index_r2 =[]\n",
    "for i in range(0,len(newone)):\n",
    "    \n",
    "    index_r=0\n",
    "    for combi_ in newone[loop_index]:\n",
    "        \n",
    "        #print(combi_)\n",
    "        features = list(combi_)\n",
    "        features_=train_file[features].values\n",
    "        output_=train_file['y'].values\n",
    "        X_train, X_test, y_train, y_test = train_test_split(features_, output_, test_size=0.1, random_state=0)\n",
    "        scaler = preprocessing.StandardScaler()\n",
    "        degree=2\n",
    "        polyreg_scaled=make_pipeline(PolynomialFeatures(degree),scaler,LinearRegression())\n",
    "        polyreg_scaled.fit(X_train,y_train)\n",
    "        y_pred = polyreg_scaled.predict(X_test)\n",
    "        r2_score_  = r2_score(y_test, y_pred, multioutput='uniform_average')\n",
    "        r2_score_new.append(r2_score_)\n",
    "    loop_index+=1\n",
    "        \n",
    "    \n",
    "    max_r2.append(max(r2_score_new))\n",
    "    index_r = r2_score_new.index(max(r2_score_new))\n",
    "    index_r2.append(index_r)\n",
    "    r2_score_new =[]"
   ]
  },
  {
   "cell_type": "code",
   "execution_count": 172,
   "metadata": {},
   "outputs": [],
   "source": [
    "#Extracting the best value so far using the regressor\n",
    "sec_index = max_r2.index(max(max_r2))\n",
    "fir_index = index_r2[sec_index]"
   ]
  },
  {
   "cell_type": "code",
   "execution_count": 173,
   "metadata": {},
   "outputs": [],
   "source": [
    "if main_r2 > max(max_r2):\n",
    "    r2_features = x\n",
    "else:\n",
    "    \n",
    "    features  = newone[sec_index][fir_index]\n",
    "    maxi_r2 = max(max_r2)"
   ]
  },
  {
   "cell_type": "code",
   "execution_count": 174,
   "metadata": {},
   "outputs": [
    {
     "name": "stdout",
     "output_type": "stream",
     "text": [
      "R2 - degree2 = 0.866459776730568\n",
      "Features = ('MolecularWeight', 'XLogP', 'Complexity', 'HBondAcceptorCount', 'MonoisotopicMass')\n"
     ]
    }
   ],
   "source": [
    "print(\"R2 - degree2 = \" + str(maxi_r2)+str(\"\\n\")+str(\"Features = \")+str(features))\n",
    "reg_max_r2 = max(max_r2)"
   ]
  },
  {
   "cell_type": "code",
   "execution_count": 175,
   "metadata": {},
   "outputs": [],
   "source": [
    "model_dict[2]=[maxi_r2,features]"
   ]
  },
  {
   "cell_type": "code",
   "execution_count": 176,
   "metadata": {},
   "outputs": [],
   "source": [
    "for x in train_file.isnull().any():\n",
    "    if x == True:\n",
    "        train_file = train_file.fillna(method='ffill')"
   ]
  },
  {
   "cell_type": "code",
   "execution_count": 177,
   "metadata": {},
   "outputs": [
    {
     "data": {
      "text/plain": [
       "{1: [0.5609045637252951,\n",
       "  ('MolecularWeight', 'XLogP', 'Complexity', 'MonoisotopicMass', 'TPSA')],\n",
       " 2: [0.866459776730568,\n",
       "  ('MolecularWeight',\n",
       "   'XLogP',\n",
       "   'Complexity',\n",
       "   'HBondAcceptorCount',\n",
       "   'MonoisotopicMass')]}"
      ]
     },
     "execution_count": 177,
     "metadata": {},
     "output_type": "execute_result"
    }
   ],
   "source": [
    "model_dict"
   ]
  },
  {
   "cell_type": "code",
   "execution_count": 178,
   "metadata": {},
   "outputs": [],
   "source": [
    "#degree 3\n",
    "coef_dict  = 0\n",
    "loop_index = 0\n",
    "coef_dict = [[]]\n",
    "r2_score_new =[]\n",
    "max_r2 = []\n",
    "index_r2 =[]\n",
    "for i in range(0,len(newone)):\n",
    "    \n",
    "    index_r=0\n",
    "    for combi_ in newone[loop_index]:\n",
    "        \n",
    "        #print(combi_)\n",
    "        features = list(combi_)\n",
    "        features_=train_file[features].values\n",
    "        output_=train_file['y'].values\n",
    "        X_train, X_test, y_train, y_test = train_test_split(features_, output_, test_size=0.1, random_state=0)\n",
    "        scaler = preprocessing.StandardScaler()\n",
    "        degree=3\n",
    "        polyreg_scaled=make_pipeline(PolynomialFeatures(degree),scaler,LinearRegression())\n",
    "        polyreg_scaled.fit(X_train,y_train)\n",
    "        y_pred = polyreg_scaled.predict(X_test)\n",
    "        r2_score_  = r2_score(y_test, y_pred, multioutput='uniform_average')\n",
    "        r2_score_new.append(r2_score_)\n",
    "    loop_index+=1\n",
    "        \n",
    "    \n",
    "    max_r2.append(max(r2_score_new))\n",
    "    index_r = r2_score_new.index(max(r2_score_new))\n",
    "    index_r2.append(index_r)\n",
    "    r2_score_new =[]"
   ]
  },
  {
   "cell_type": "code",
   "execution_count": 179,
   "metadata": {},
   "outputs": [],
   "source": [
    "#Extracting the best value so far using the regressor\n",
    "sec_index = max_r2.index(max(max_r2))\n",
    "fir_index = index_r2[sec_index]"
   ]
  },
  {
   "cell_type": "code",
   "execution_count": 180,
   "metadata": {},
   "outputs": [],
   "source": [
    "if main_r2 > max(max_r2):\n",
    "    r2_features = x\n",
    "else:\n",
    "    \n",
    "    features  = newone[sec_index][fir_index]\n",
    "    maxi_r2 = max(max_r2)"
   ]
  },
  {
   "cell_type": "code",
   "execution_count": 181,
   "metadata": {},
   "outputs": [
    {
     "name": "stdout",
     "output_type": "stream",
     "text": [
      "R2 - degree3 = 0.8878439061191082\n",
      "Features = ('MolecularWeight', 'XLogP', 'MonoisotopicMass')\n"
     ]
    }
   ],
   "source": [
    "print(\"R2 - degree3 = \" + str(maxi_r2)+str(\"\\n\")+str(\"Features = \")+str(features))\n",
    "reg_max_r2 = max(max_r2)"
   ]
  },
  {
   "cell_type": "code",
   "execution_count": 182,
   "metadata": {},
   "outputs": [],
   "source": [
    "model_dict[3]=[maxi_r2,features]"
   ]
  },
  {
   "cell_type": "code",
   "execution_count": 183,
   "metadata": {},
   "outputs": [],
   "source": [
    "for x in train_file.isnull().any():\n",
    "    if x == True:\n",
    "        train_file = train_file.fillna(method='ffill')"
   ]
  },
  {
   "cell_type": "code",
   "execution_count": 184,
   "metadata": {},
   "outputs": [
    {
     "data": {
      "text/plain": [
       "{1: [0.5609045637252951,\n",
       "  ('MolecularWeight', 'XLogP', 'Complexity', 'MonoisotopicMass', 'TPSA')],\n",
       " 2: [0.866459776730568,\n",
       "  ('MolecularWeight',\n",
       "   'XLogP',\n",
       "   'Complexity',\n",
       "   'HBondAcceptorCount',\n",
       "   'MonoisotopicMass')],\n",
       " 3: [0.8878439061191082, ('MolecularWeight', 'XLogP', 'MonoisotopicMass')]}"
      ]
     },
     "execution_count": 184,
     "metadata": {},
     "output_type": "execute_result"
    }
   ],
   "source": [
    "model_dict"
   ]
  },
  {
   "cell_type": "code",
   "execution_count": 185,
   "metadata": {},
   "outputs": [],
   "source": [
    "top_cid_mix_df = pd.DataFrame()"
   ]
  },
  {
   "cell_type": "markdown",
   "metadata": {},
   "source": [
    "  "
   ]
  },
  {
   "cell_type": "markdown",
   "metadata": {},
   "source": [
    " "
   ]
  },
  {
   "cell_type": "markdown",
   "metadata": {},
   "source": [
    " "
   ]
  },
  {
   "cell_type": "markdown",
   "metadata": {},
   "source": [
    "DEGREE 1 : "
   ]
  },
  {
   "cell_type": "code",
   "execution_count": 186,
   "metadata": {},
   "outputs": [
    {
     "data": {
      "text/plain": [
       "[0.5609045637252951,\n",
       " ('MolecularWeight', 'XLogP', 'Complexity', 'MonoisotopicMass', 'TPSA')]"
      ]
     },
     "execution_count": 186,
     "metadata": {},
     "output_type": "execute_result"
    }
   ],
   "source": [
    "model_dict[1]"
   ]
  },
  {
   "cell_type": "code",
   "execution_count": 187,
   "metadata": {},
   "outputs": [
    {
     "data": {
      "text/plain": [
       "['MolecularWeight', 'XLogP', 'Complexity', 'MonoisotopicMass', 'TPSA']"
      ]
     },
     "execution_count": 187,
     "metadata": {},
     "output_type": "execute_result"
    }
   ],
   "source": [
    "features = list(model_dict[1][1])\n",
    "features"
   ]
  },
  {
   "cell_type": "code",
   "execution_count": 188,
   "metadata": {},
   "outputs": [
    {
     "data": {
      "text/plain": [
       "((111, 5), (111,))"
      ]
     },
     "execution_count": 188,
     "metadata": {},
     "output_type": "execute_result"
    }
   ],
   "source": [
    "x_trained =train_file[features].values\n",
    "y_trained = train_file['y'].values\n",
    "x_trained.shape,y_trained.shape"
   ]
  },
  {
   "cell_type": "code",
   "execution_count": 189,
   "metadata": {},
   "outputs": [],
   "source": [
    "X_train, X_test, y_train, y_test = train_test_split(x_trained, y_trained, test_size=0.1, random_state=0)"
   ]
  },
  {
   "cell_type": "code",
   "execution_count": 190,
   "metadata": {},
   "outputs": [
    {
     "data": {
      "text/plain": [
       "Pipeline(memory=None,\n",
       "         steps=[('polynomialfeatures',\n",
       "                 PolynomialFeatures(degree=1, include_bias=True,\n",
       "                                    interaction_only=False, order='C')),\n",
       "                ('standardscaler',\n",
       "                 StandardScaler(copy=True, with_mean=True, with_std=True)),\n",
       "                ('linearregression',\n",
       "                 LinearRegression(copy_X=True, fit_intercept=True, n_jobs=None,\n",
       "                                  normalize=False))],\n",
       "         verbose=False)"
      ]
     },
     "execution_count": 190,
     "metadata": {},
     "output_type": "execute_result"
    }
   ],
   "source": [
    "#poly regression - degree 1\n",
    "scaler = preprocessing.StandardScaler()\n",
    "degree=1\n",
    "polyreg_scaled=make_pipeline(PolynomialFeatures(degree),scaler,LinearRegression())\n",
    "polyreg_scaled.fit(X_train,y_train)"
   ]
  },
  {
   "cell_type": "code",
   "execution_count": 191,
   "metadata": {},
   "outputs": [
    {
     "data": {
      "text/plain": [
       "0.5609045637252951"
      ]
     },
     "execution_count": 191,
     "metadata": {},
     "output_type": "execute_result"
    }
   ],
   "source": [
    "#R2 Score\n",
    "y_pred = polyreg_scaled.predict(X_test)\n",
    "r2_score(y_test, y_pred, multioutput='uniform_average')"
   ]
  },
  {
   "cell_type": "code",
   "execution_count": 192,
   "metadata": {},
   "outputs": [],
   "source": [
    "final_data_frameF1 = final_data_frame[final_data_frame['MolecularWeight'] <= 500]\n",
    "final_data_frameF2 = final_data_frameF1[final_data_frameF1['XLogP'] <=5.6]"
   ]
  },
  {
   "cell_type": "code",
   "execution_count": 193,
   "metadata": {},
   "outputs": [],
   "source": [
    "pred_data_cid = final_data_frameF2[\"CID\"].to_list()"
   ]
  },
  {
   "cell_type": "code",
   "execution_count": 194,
   "metadata": {},
   "outputs": [
    {
     "data": {
      "text/plain": [
       "['MolecularWeight', 'XLogP', 'Complexity', 'MonoisotopicMass', 'TPSA', 'CID']"
      ]
     },
     "execution_count": 194,
     "metadata": {},
     "output_type": "execute_result"
    }
   ],
   "source": [
    "#features.append('CID')\n",
    "new_features = features.append(\"CID\")\n",
    "features"
   ]
  },
  {
   "cell_type": "code",
   "execution_count": 195,
   "metadata": {},
   "outputs": [
    {
     "name": "stderr",
     "output_type": "stream",
     "text": [
      "c:\\users\\samen\\appdata\\local\\programs\\python\\python37\\lib\\site-packages\\pandas\\core\\frame.py:3997: SettingWithCopyWarning: \n",
      "A value is trying to be set on a copy of a slice from a DataFrame\n",
      "\n",
      "See the caveats in the documentation: https://pandas.pydata.org/pandas-docs/stable/user_guide/indexing.html#returning-a-view-versus-a-copy\n",
      "  errors=errors,\n"
     ]
    },
    {
     "data": {
      "text/plain": [
       "(442, 5)"
      ]
     },
     "execution_count": 195,
     "metadata": {},
     "output_type": "execute_result"
    }
   ],
   "source": [
    "final_data_frame1 = final_data_frameF2[features]\n",
    "for x in final_data_frame1.isnull().any():\n",
    "    if x == True:\n",
    "        final_data_frame1 = final_data_frame1.fillna(method='ffill')\n",
    "final_data_frame1.drop(columns='CID',inplace=True)\n",
    "final_data_frame1.shape"
   ]
  },
  {
   "cell_type": "code",
   "execution_count": 196,
   "metadata": {},
   "outputs": [],
   "source": [
    "final_pred_1 = polyreg_scaled.predict(final_data_frame1)"
   ]
  },
  {
   "cell_type": "code",
   "execution_count": 197,
   "metadata": {},
   "outputs": [
    {
     "name": "stderr",
     "output_type": "stream",
     "text": [
      "c:\\users\\samen\\appdata\\local\\programs\\python\\python37\\lib\\site-packages\\ipykernel_launcher.py:2: SettingWithCopyWarning: \n",
      "A value is trying to be set on a copy of a slice from a DataFrame.\n",
      "Try using .loc[row_indexer,col_indexer] = value instead\n",
      "\n",
      "See the caveats in the documentation: https://pandas.pydata.org/pandas-docs/stable/user_guide/indexing.html#returning-a-view-versus-a-copy\n",
      "  \n",
      "c:\\users\\samen\\appdata\\local\\programs\\python\\python37\\lib\\site-packages\\ipykernel_launcher.py:3: SettingWithCopyWarning: \n",
      "A value is trying to be set on a copy of a slice from a DataFrame.\n",
      "Try using .loc[row_indexer,col_indexer] = value instead\n",
      "\n",
      "See the caveats in the documentation: https://pandas.pydata.org/pandas-docs/stable/user_guide/indexing.html#returning-a-view-versus-a-copy\n",
      "  This is separate from the ipykernel package so we can avoid doing imports until\n"
     ]
    }
   ],
   "source": [
    "final_pred_1 = list(final_pred_1)\n",
    "final_data_frame1['CID'] = pred_data_cid\n",
    "final_data_frame1['y_'] = final_pred_1"
   ]
  },
  {
   "cell_type": "code",
   "execution_count": 198,
   "metadata": {},
   "outputs": [],
   "source": [
    "saved_final_data_frame1 = final_data_frame1\n",
    "sorted_final_df = final_data_frame1.sort_values('y_',ascending =0)\n",
    "final_larg= sorted_final_df.head(30)"
   ]
  },
  {
   "cell_type": "code",
   "execution_count": 199,
   "metadata": {},
   "outputs": [],
   "source": [
    "final_larg = final_larg[['CID','y_']]\n",
    "top_cid = final_larg[\"CID\"].to_list()"
   ]
  },
  {
   "cell_type": "code",
   "execution_count": 200,
   "metadata": {},
   "outputs": [
    {
     "name": "stdout",
     "output_type": "stream",
     "text": [
      "The Top 30 Drug Leads Which are identified with PubChem cid's are (USING DEGREE 1 REGRESSION): \n",
      "1 : 4730265\n",
      "2 : 3477460\n",
      "3 : 3280850\n",
      "4 : 515953\n",
      "5 : 316076\n",
      "6 : 538819\n",
      "7 : 1713563\n",
      "8 : 515954\n",
      "9 : 1906162\n",
      "10 : 2055049\n",
      "11 : 539947\n",
      "12 : 32449032\n",
      "13 : 1645090\n",
      "14 : 2471305\n",
      "15 : 1645097\n",
      "16 : 12349107\n",
      "17 : 264734\n",
      "18 : 11622476\n",
      "19 : 11840\n",
      "20 : 1581052\n",
      "21 : 2173069\n",
      "22 : 2057118\n",
      "23 : 11097156\n",
      "24 : 53542036\n",
      "25 : 95145105\n",
      "26 : 95145104\n",
      "27 : 28782857\n",
      "28 : 28782873\n",
      "29 : 2054452\n",
      "30 : 2306396\n"
     ]
    }
   ],
   "source": [
    "print(\"The Top 30 Drug Leads Which are identified with PubChem cid's are (USING DEGREE 1 REGRESSION): \")\n",
    "itter_count = 0\n",
    "for itter in top_cid:\n",
    "    itter_count+=1\n",
    "    \n",
    "    print(str(itter_count)+\" : \"+str(itter))"
   ]
  },
  {
   "cell_type": "code",
   "execution_count": 201,
   "metadata": {},
   "outputs": [
    {
     "name": "stdout",
     "output_type": "stream",
     "text": [
      "r2 = 0.5609045637252951\n"
     ]
    }
   ],
   "source": [
    "print(\"r2 = \"+str(r2_score(y_test, y_pred, multioutput='uniform_average')))"
   ]
  },
  {
   "cell_type": "code",
   "execution_count": 202,
   "metadata": {},
   "outputs": [],
   "source": [
    "top_cid_mix_df['Degree 1'] = top_cid"
   ]
  },
  {
   "cell_type": "code",
   "execution_count": 203,
   "metadata": {},
   "outputs": [],
   "source": [
    "final_cid_1 = pd.DataFrame()\n",
    "final_cid_1['CID'] = top_cid\n",
    "final_cid_1.to_csv(\"final_cid_degree_1.csv\")"
   ]
  },
  {
   "cell_type": "markdown",
   "metadata": {},
   "source": [
    " "
   ]
  },
  {
   "cell_type": "markdown",
   "metadata": {},
   "source": [
    " "
   ]
  },
  {
   "cell_type": "markdown",
   "metadata": {},
   "source": [
    " "
   ]
  },
  {
   "cell_type": "markdown",
   "metadata": {},
   "source": [
    "DEGREE :2"
   ]
  },
  {
   "cell_type": "code",
   "execution_count": 204,
   "metadata": {},
   "outputs": [
    {
     "data": {
      "text/plain": [
       "[0.866459776730568,\n",
       " ('MolecularWeight',\n",
       "  'XLogP',\n",
       "  'Complexity',\n",
       "  'HBondAcceptorCount',\n",
       "  'MonoisotopicMass')]"
      ]
     },
     "execution_count": 204,
     "metadata": {},
     "output_type": "execute_result"
    }
   ],
   "source": [
    "model_dict[2]"
   ]
  },
  {
   "cell_type": "code",
   "execution_count": 205,
   "metadata": {},
   "outputs": [
    {
     "data": {
      "text/plain": [
       "['MolecularWeight',\n",
       " 'XLogP',\n",
       " 'Complexity',\n",
       " 'HBondAcceptorCount',\n",
       " 'MonoisotopicMass']"
      ]
     },
     "execution_count": 205,
     "metadata": {},
     "output_type": "execute_result"
    }
   ],
   "source": [
    "features = list(model_dict[2][1])\n",
    "features"
   ]
  },
  {
   "cell_type": "code",
   "execution_count": 206,
   "metadata": {},
   "outputs": [
    {
     "data": {
      "text/plain": [
       "((111, 5), (111,))"
      ]
     },
     "execution_count": 206,
     "metadata": {},
     "output_type": "execute_result"
    }
   ],
   "source": [
    "x_trained =train_file[features].values\n",
    "y_trained = train_file['y'].values\n",
    "x_trained.shape,y_trained.shape"
   ]
  },
  {
   "cell_type": "code",
   "execution_count": 207,
   "metadata": {},
   "outputs": [],
   "source": [
    "X_train, X_test, y_train, y_test = train_test_split(x_trained, y_trained, test_size=0.1, random_state=0)"
   ]
  },
  {
   "cell_type": "code",
   "execution_count": 208,
   "metadata": {},
   "outputs": [
    {
     "data": {
      "text/plain": [
       "Pipeline(memory=None,\n",
       "         steps=[('polynomialfeatures',\n",
       "                 PolynomialFeatures(degree=2, include_bias=True,\n",
       "                                    interaction_only=False, order='C')),\n",
       "                ('standardscaler',\n",
       "                 StandardScaler(copy=True, with_mean=True, with_std=True)),\n",
       "                ('linearregression',\n",
       "                 LinearRegression(copy_X=True, fit_intercept=True, n_jobs=None,\n",
       "                                  normalize=False))],\n",
       "         verbose=False)"
      ]
     },
     "execution_count": 208,
     "metadata": {},
     "output_type": "execute_result"
    }
   ],
   "source": [
    "#poly regression - degree 2\n",
    "scaler = preprocessing.StandardScaler()\n",
    "degree=2\n",
    "polyreg_scaled=make_pipeline(PolynomialFeatures(degree),scaler,LinearRegression())\n",
    "polyreg_scaled.fit(X_train,y_train)"
   ]
  },
  {
   "cell_type": "code",
   "execution_count": 209,
   "metadata": {},
   "outputs": [
    {
     "data": {
      "text/plain": [
       "0.866459776730568"
      ]
     },
     "execution_count": 209,
     "metadata": {},
     "output_type": "execute_result"
    }
   ],
   "source": [
    "#R2 Score\n",
    "y_pred = polyreg_scaled.predict(X_test)\n",
    "r2_score(y_test, y_pred, multioutput='uniform_average')"
   ]
  },
  {
   "cell_type": "code",
   "execution_count": 210,
   "metadata": {},
   "outputs": [],
   "source": [
    "final_data_frameF1 = final_data_frame[final_data_frame['MolecularWeight'] <= 500]\n",
    "final_data_frameF2 = final_data_frameF1[final_data_frameF1['XLogP'] <=5.6]"
   ]
  },
  {
   "cell_type": "code",
   "execution_count": 211,
   "metadata": {},
   "outputs": [],
   "source": [
    "pred_data_cid = final_data_frameF2[\"CID\"].to_list()"
   ]
  },
  {
   "cell_type": "code",
   "execution_count": 212,
   "metadata": {},
   "outputs": [
    {
     "data": {
      "text/plain": [
       "['MolecularWeight',\n",
       " 'XLogP',\n",
       " 'Complexity',\n",
       " 'HBondAcceptorCount',\n",
       " 'MonoisotopicMass',\n",
       " 'CID']"
      ]
     },
     "execution_count": 212,
     "metadata": {},
     "output_type": "execute_result"
    }
   ],
   "source": [
    "#features.append('CID')\n",
    "new_features = features.append(\"CID\")\n",
    "features"
   ]
  },
  {
   "cell_type": "code",
   "execution_count": 213,
   "metadata": {},
   "outputs": [
    {
     "name": "stderr",
     "output_type": "stream",
     "text": [
      "c:\\users\\samen\\appdata\\local\\programs\\python\\python37\\lib\\site-packages\\pandas\\core\\frame.py:3997: SettingWithCopyWarning: \n",
      "A value is trying to be set on a copy of a slice from a DataFrame\n",
      "\n",
      "See the caveats in the documentation: https://pandas.pydata.org/pandas-docs/stable/user_guide/indexing.html#returning-a-view-versus-a-copy\n",
      "  errors=errors,\n"
     ]
    },
    {
     "data": {
      "text/plain": [
       "(442, 5)"
      ]
     },
     "execution_count": 213,
     "metadata": {},
     "output_type": "execute_result"
    }
   ],
   "source": [
    "final_data_frame1 = final_data_frameF2[features]\n",
    "for x in final_data_frame1.isnull().any():\n",
    "    if x == True:\n",
    "        final_data_frame1 = final_data_frame1.fillna(method='ffill')\n",
    "final_data_frame1.drop(columns='CID',inplace=True)\n",
    "final_data_frame1.shape"
   ]
  },
  {
   "cell_type": "code",
   "execution_count": 214,
   "metadata": {},
   "outputs": [
    {
     "name": "stderr",
     "output_type": "stream",
     "text": [
      "c:\\users\\samen\\appdata\\local\\programs\\python\\python37\\lib\\site-packages\\ipykernel_launcher.py:3: SettingWithCopyWarning: \n",
      "A value is trying to be set on a copy of a slice from a DataFrame.\n",
      "Try using .loc[row_indexer,col_indexer] = value instead\n",
      "\n",
      "See the caveats in the documentation: https://pandas.pydata.org/pandas-docs/stable/user_guide/indexing.html#returning-a-view-versus-a-copy\n",
      "  This is separate from the ipykernel package so we can avoid doing imports until\n",
      "c:\\users\\samen\\appdata\\local\\programs\\python\\python37\\lib\\site-packages\\ipykernel_launcher.py:4: SettingWithCopyWarning: \n",
      "A value is trying to be set on a copy of a slice from a DataFrame.\n",
      "Try using .loc[row_indexer,col_indexer] = value instead\n",
      "\n",
      "See the caveats in the documentation: https://pandas.pydata.org/pandas-docs/stable/user_guide/indexing.html#returning-a-view-versus-a-copy\n",
      "  after removing the cwd from sys.path.\n"
     ]
    }
   ],
   "source": [
    "final_pred_1 = polyreg_scaled.predict(final_data_frame1)\n",
    "final_pred_1 = list(final_pred_1)\n",
    "final_data_frame1['CID'] = pred_data_cid\n",
    "final_data_frame1['y_'] = final_pred_1"
   ]
  },
  {
   "cell_type": "code",
   "execution_count": 215,
   "metadata": {},
   "outputs": [],
   "source": [
    "saved_final_data_frame1 = final_data_frame1\n",
    "sorted_final_df = final_data_frame1.sort_values('y_',ascending =0)\n",
    "final_larg= sorted_final_df.head(30)"
   ]
  },
  {
   "cell_type": "code",
   "execution_count": 216,
   "metadata": {},
   "outputs": [],
   "source": [
    "final_larg = final_larg[['CID','y_']]\n",
    "top_cid = final_larg[\"CID\"].to_list()"
   ]
  },
  {
   "cell_type": "code",
   "execution_count": 217,
   "metadata": {},
   "outputs": [
    {
     "name": "stdout",
     "output_type": "stream",
     "text": [
      "The Top 30 Drug Leads Which are identified with PubChem cid's are (USING DEGREE 2 REGRESSION): \n",
      "1 : 61356255\n",
      "2 : 61356831\n",
      "3 : 61743020\n",
      "4 : 61727698\n",
      "5 : 134115849\n",
      "6 : 29559485\n",
      "7 : 61359893\n",
      "8 : 61356261\n",
      "9 : 1580642\n",
      "10 : 2196453\n",
      "11 : 10645393\n",
      "12 : 62024757\n",
      "13 : 1970475\n",
      "14 : 61727697\n",
      "15 : 61360057\n",
      "16 : 44398592\n",
      "17 : 62024579\n",
      "18 : 901295\n",
      "19 : 44398436\n",
      "20 : 21487063\n",
      "21 : 62023480\n",
      "22 : 62016955\n",
      "23 : 62019710\n",
      "24 : 11840\n",
      "25 : 126573189\n",
      "26 : 28492614\n",
      "27 : 61358726\n",
      "28 : 42857\n",
      "29 : 61356832\n",
      "30 : 61356610\n"
     ]
    }
   ],
   "source": [
    "print(\"The Top 30 Drug Leads Which are identified with PubChem cid's are (USING DEGREE 2 REGRESSION): \")\n",
    "itter_count = 0\n",
    "for itter in top_cid:\n",
    "    itter_count+=1\n",
    "    \n",
    "    print(str(itter_count)+\" : \"+str(itter))"
   ]
  },
  {
   "cell_type": "code",
   "execution_count": 218,
   "metadata": {},
   "outputs": [],
   "source": [
    "top_cid_mix_df['Degree 2'] = top_cid"
   ]
  },
  {
   "cell_type": "code",
   "execution_count": 219,
   "metadata": {},
   "outputs": [
    {
     "name": "stdout",
     "output_type": "stream",
     "text": [
      "r2 = 0.866459776730568\n"
     ]
    }
   ],
   "source": [
    "print(\"r2 = \"+str(r2_score(y_test, y_pred, multioutput='uniform_average')))\n",
    "final_cid_2 = pd.DataFrame()\n",
    "final_cid_2['CID'] = top_cid\n",
    "final_cid_2.to_csv(\"final_cid_degree_2.csv\")"
   ]
  },
  {
   "cell_type": "markdown",
   "metadata": {},
   "source": [
    " "
   ]
  },
  {
   "cell_type": "markdown",
   "metadata": {},
   "source": [
    " "
   ]
  },
  {
   "cell_type": "markdown",
   "metadata": {},
   "source": [
    " "
   ]
  },
  {
   "cell_type": "markdown",
   "metadata": {},
   "source": [
    "DEGREE :3"
   ]
  },
  {
   "cell_type": "code",
   "execution_count": 220,
   "metadata": {},
   "outputs": [
    {
     "data": {
      "text/plain": [
       "[0.8878439061191082, ('MolecularWeight', 'XLogP', 'MonoisotopicMass')]"
      ]
     },
     "execution_count": 220,
     "metadata": {},
     "output_type": "execute_result"
    }
   ],
   "source": [
    "model_dict[3]"
   ]
  },
  {
   "cell_type": "code",
   "execution_count": 221,
   "metadata": {},
   "outputs": [
    {
     "data": {
      "text/plain": [
       "['MolecularWeight', 'XLogP', 'MonoisotopicMass']"
      ]
     },
     "execution_count": 221,
     "metadata": {},
     "output_type": "execute_result"
    }
   ],
   "source": [
    "features = list(model_dict[3][1])\n",
    "features"
   ]
  },
  {
   "cell_type": "code",
   "execution_count": 222,
   "metadata": {},
   "outputs": [
    {
     "data": {
      "text/plain": [
       "((111, 3), (111,))"
      ]
     },
     "execution_count": 222,
     "metadata": {},
     "output_type": "execute_result"
    }
   ],
   "source": [
    "x_trained =train_file[features].values\n",
    "y_trained = train_file['y'].values\n",
    "x_trained.shape,y_trained.shape"
   ]
  },
  {
   "cell_type": "code",
   "execution_count": 223,
   "metadata": {},
   "outputs": [],
   "source": [
    "X_train, X_test, y_train, y_test = train_test_split(x_trained, y_trained, test_size=0.1, random_state=0)"
   ]
  },
  {
   "cell_type": "code",
   "execution_count": 224,
   "metadata": {},
   "outputs": [
    {
     "data": {
      "text/plain": [
       "Pipeline(memory=None,\n",
       "         steps=[('polynomialfeatures',\n",
       "                 PolynomialFeatures(degree=3, include_bias=True,\n",
       "                                    interaction_only=False, order='C')),\n",
       "                ('standardscaler',\n",
       "                 StandardScaler(copy=True, with_mean=True, with_std=True)),\n",
       "                ('linearregression',\n",
       "                 LinearRegression(copy_X=True, fit_intercept=True, n_jobs=None,\n",
       "                                  normalize=False))],\n",
       "         verbose=False)"
      ]
     },
     "execution_count": 224,
     "metadata": {},
     "output_type": "execute_result"
    }
   ],
   "source": [
    "#poly regression - degree 3\n",
    "scaler = preprocessing.StandardScaler()\n",
    "degree=3\n",
    "polyreg_scaled=make_pipeline(PolynomialFeatures(degree),scaler,LinearRegression())\n",
    "polyreg_scaled.fit(X_train,y_train)"
   ]
  },
  {
   "cell_type": "code",
   "execution_count": 225,
   "metadata": {},
   "outputs": [
    {
     "data": {
      "text/plain": [
       "0.8878439061191082"
      ]
     },
     "execution_count": 225,
     "metadata": {},
     "output_type": "execute_result"
    }
   ],
   "source": [
    "#R2 Score\n",
    "y_pred = polyreg_scaled.predict(X_test)\n",
    "r2_score(y_test, y_pred, multioutput='uniform_average')"
   ]
  },
  {
   "cell_type": "code",
   "execution_count": 226,
   "metadata": {},
   "outputs": [],
   "source": [
    "final_data_frameF1 = final_data_frame[final_data_frame['MolecularWeight'] <= 500]\n",
    "final_data_frameF2 = final_data_frameF1[final_data_frameF1['XLogP'] <=5.6]"
   ]
  },
  {
   "cell_type": "code",
   "execution_count": 227,
   "metadata": {},
   "outputs": [],
   "source": [
    "pred_data_cid = final_data_frameF2[\"CID\"].to_list()"
   ]
  },
  {
   "cell_type": "code",
   "execution_count": 228,
   "metadata": {},
   "outputs": [
    {
     "data": {
      "text/plain": [
       "['MolecularWeight', 'XLogP', 'MonoisotopicMass', 'CID']"
      ]
     },
     "execution_count": 228,
     "metadata": {},
     "output_type": "execute_result"
    }
   ],
   "source": [
    "#features.append('CID')\n",
    "new_features = features.append(\"CID\")\n",
    "features"
   ]
  },
  {
   "cell_type": "code",
   "execution_count": 229,
   "metadata": {},
   "outputs": [
    {
     "name": "stderr",
     "output_type": "stream",
     "text": [
      "c:\\users\\samen\\appdata\\local\\programs\\python\\python37\\lib\\site-packages\\pandas\\core\\frame.py:3997: SettingWithCopyWarning: \n",
      "A value is trying to be set on a copy of a slice from a DataFrame\n",
      "\n",
      "See the caveats in the documentation: https://pandas.pydata.org/pandas-docs/stable/user_guide/indexing.html#returning-a-view-versus-a-copy\n",
      "  errors=errors,\n"
     ]
    },
    {
     "data": {
      "text/plain": [
       "(442, 3)"
      ]
     },
     "execution_count": 229,
     "metadata": {},
     "output_type": "execute_result"
    }
   ],
   "source": [
    "final_data_frame1 = final_data_frameF2[features]\n",
    "for x in final_data_frame1.isnull().any():\n",
    "    if x == True:\n",
    "        final_data_frame1 = final_data_frame1.fillna(method='ffill')\n",
    "final_data_frame1.drop(columns='CID',inplace=True)\n",
    "final_data_frame1.shape"
   ]
  },
  {
   "cell_type": "code",
   "execution_count": 230,
   "metadata": {},
   "outputs": [
    {
     "name": "stderr",
     "output_type": "stream",
     "text": [
      "c:\\users\\samen\\appdata\\local\\programs\\python\\python37\\lib\\site-packages\\ipykernel_launcher.py:3: SettingWithCopyWarning: \n",
      "A value is trying to be set on a copy of a slice from a DataFrame.\n",
      "Try using .loc[row_indexer,col_indexer] = value instead\n",
      "\n",
      "See the caveats in the documentation: https://pandas.pydata.org/pandas-docs/stable/user_guide/indexing.html#returning-a-view-versus-a-copy\n",
      "  This is separate from the ipykernel package so we can avoid doing imports until\n",
      "c:\\users\\samen\\appdata\\local\\programs\\python\\python37\\lib\\site-packages\\ipykernel_launcher.py:4: SettingWithCopyWarning: \n",
      "A value is trying to be set on a copy of a slice from a DataFrame.\n",
      "Try using .loc[row_indexer,col_indexer] = value instead\n",
      "\n",
      "See the caveats in the documentation: https://pandas.pydata.org/pandas-docs/stable/user_guide/indexing.html#returning-a-view-versus-a-copy\n",
      "  after removing the cwd from sys.path.\n"
     ]
    }
   ],
   "source": [
    "final_pred_1 = polyreg_scaled.predict(final_data_frame1)\n",
    "final_pred_1 = list(final_pred_1)\n",
    "final_data_frame1['CID'] = pred_data_cid\n",
    "final_data_frame1['y_'] = final_pred_1"
   ]
  },
  {
   "cell_type": "code",
   "execution_count": 231,
   "metadata": {},
   "outputs": [],
   "source": [
    "saved_final_data_frame1 = final_data_frame1\n",
    "sorted_final_df = final_data_frame1.sort_values('y_',ascending =0)\n",
    "final_larg= sorted_final_df.head(30)"
   ]
  },
  {
   "cell_type": "code",
   "execution_count": 232,
   "metadata": {},
   "outputs": [],
   "source": [
    "final_larg = final_larg[['CID','y_']]\n",
    "top_cid = final_larg[\"CID\"].to_list()"
   ]
  },
  {
   "cell_type": "code",
   "execution_count": 233,
   "metadata": {},
   "outputs": [
    {
     "name": "stdout",
     "output_type": "stream",
     "text": [
      "The Top 30 Drug Leads Which are identified with PubChem cid's are (USING DEGREE 3 REGRESSION): \n",
      "1 : 61356255\n",
      "2 : 61356831\n",
      "3 : 61743020\n",
      "4 : 61727698\n",
      "5 : 901295\n",
      "6 : 61356261\n",
      "7 : 61359893\n",
      "8 : 29559485\n",
      "9 : 91879629\n",
      "10 : 61727697\n",
      "11 : 62024757\n",
      "12 : 91875621\n",
      "13 : 44589253\n",
      "14 : 61360057\n",
      "15 : 2196453\n",
      "16 : 1580642\n",
      "17 : 62024579\n",
      "18 : 1970475\n",
      "19 : 62019710\n",
      "20 : 62016955\n",
      "21 : 62023480\n",
      "22 : 28492614\n",
      "23 : 692999\n",
      "24 : 2800115\n",
      "25 : 10754267\n",
      "26 : 902037\n",
      "27 : 2774370\n",
      "28 : 901283\n",
      "29 : 89781246\n",
      "30 : 2801410\n"
     ]
    }
   ],
   "source": [
    "print(\"The Top 30 Drug Leads Which are identified with PubChem cid's are (USING DEGREE 3 REGRESSION): \")\n",
    "itter_count = 0\n",
    "for itter in top_cid:\n",
    "    itter_count+=1\n",
    "    \n",
    "    print(str(itter_count)+\" : \"+str(itter))"
   ]
  },
  {
   "cell_type": "code",
   "execution_count": 234,
   "metadata": {},
   "outputs": [],
   "source": [
    "top_cid_mix_df['Degree 3'] = top_cid"
   ]
  },
  {
   "cell_type": "code",
   "execution_count": 235,
   "metadata": {},
   "outputs": [
    {
     "name": "stdout",
     "output_type": "stream",
     "text": [
      "r2 = 0.8878439061191082\n"
     ]
    }
   ],
   "source": [
    "print(\"r2 = \"+str(r2_score(y_test, y_pred, multioutput='uniform_average')))\n",
    "final_cid_2 = pd.DataFrame()\n",
    "final_cid_2['CID'] = top_cid\n",
    "final_cid_2.to_csv(\"final_cid_degree_2.csv\")"
   ]
  },
  {
   "cell_type": "markdown",
   "metadata": {},
   "source": [
    " THE END - COMPOUND FETCHING"
   ]
  },
  {
   "cell_type": "code",
   "execution_count": 236,
   "metadata": {},
   "outputs": [
    {
     "data": {
      "text/html": [
       "<div>\n",
       "<style scoped>\n",
       "    .dataframe tbody tr th:only-of-type {\n",
       "        vertical-align: middle;\n",
       "    }\n",
       "\n",
       "    .dataframe tbody tr th {\n",
       "        vertical-align: top;\n",
       "    }\n",
       "\n",
       "    .dataframe thead th {\n",
       "        text-align: right;\n",
       "    }\n",
       "</style>\n",
       "<table border=\"1\" class=\"dataframe\">\n",
       "  <thead>\n",
       "    <tr style=\"text-align: right;\">\n",
       "      <th></th>\n",
       "      <th>Degree 1</th>\n",
       "      <th>Degree 2</th>\n",
       "      <th>Degree 3</th>\n",
       "    </tr>\n",
       "  </thead>\n",
       "  <tbody>\n",
       "    <tr>\n",
       "      <th>0</th>\n",
       "      <td>4730265</td>\n",
       "      <td>61356255</td>\n",
       "      <td>61356255</td>\n",
       "    </tr>\n",
       "    <tr>\n",
       "      <th>1</th>\n",
       "      <td>3477460</td>\n",
       "      <td>61356831</td>\n",
       "      <td>61356831</td>\n",
       "    </tr>\n",
       "    <tr>\n",
       "      <th>2</th>\n",
       "      <td>3280850</td>\n",
       "      <td>61743020</td>\n",
       "      <td>61743020</td>\n",
       "    </tr>\n",
       "    <tr>\n",
       "      <th>3</th>\n",
       "      <td>515953</td>\n",
       "      <td>61727698</td>\n",
       "      <td>61727698</td>\n",
       "    </tr>\n",
       "    <tr>\n",
       "      <th>4</th>\n",
       "      <td>316076</td>\n",
       "      <td>134115849</td>\n",
       "      <td>901295</td>\n",
       "    </tr>\n",
       "    <tr>\n",
       "      <th>5</th>\n",
       "      <td>538819</td>\n",
       "      <td>29559485</td>\n",
       "      <td>61356261</td>\n",
       "    </tr>\n",
       "    <tr>\n",
       "      <th>6</th>\n",
       "      <td>1713563</td>\n",
       "      <td>61359893</td>\n",
       "      <td>61359893</td>\n",
       "    </tr>\n",
       "    <tr>\n",
       "      <th>7</th>\n",
       "      <td>515954</td>\n",
       "      <td>61356261</td>\n",
       "      <td>29559485</td>\n",
       "    </tr>\n",
       "    <tr>\n",
       "      <th>8</th>\n",
       "      <td>1906162</td>\n",
       "      <td>1580642</td>\n",
       "      <td>91879629</td>\n",
       "    </tr>\n",
       "    <tr>\n",
       "      <th>9</th>\n",
       "      <td>2055049</td>\n",
       "      <td>2196453</td>\n",
       "      <td>61727697</td>\n",
       "    </tr>\n",
       "    <tr>\n",
       "      <th>10</th>\n",
       "      <td>539947</td>\n",
       "      <td>10645393</td>\n",
       "      <td>62024757</td>\n",
       "    </tr>\n",
       "    <tr>\n",
       "      <th>11</th>\n",
       "      <td>32449032</td>\n",
       "      <td>62024757</td>\n",
       "      <td>91875621</td>\n",
       "    </tr>\n",
       "    <tr>\n",
       "      <th>12</th>\n",
       "      <td>1645090</td>\n",
       "      <td>1970475</td>\n",
       "      <td>44589253</td>\n",
       "    </tr>\n",
       "    <tr>\n",
       "      <th>13</th>\n",
       "      <td>2471305</td>\n",
       "      <td>61727697</td>\n",
       "      <td>61360057</td>\n",
       "    </tr>\n",
       "    <tr>\n",
       "      <th>14</th>\n",
       "      <td>1645097</td>\n",
       "      <td>61360057</td>\n",
       "      <td>2196453</td>\n",
       "    </tr>\n",
       "    <tr>\n",
       "      <th>15</th>\n",
       "      <td>12349107</td>\n",
       "      <td>44398592</td>\n",
       "      <td>1580642</td>\n",
       "    </tr>\n",
       "    <tr>\n",
       "      <th>16</th>\n",
       "      <td>264734</td>\n",
       "      <td>62024579</td>\n",
       "      <td>62024579</td>\n",
       "    </tr>\n",
       "    <tr>\n",
       "      <th>17</th>\n",
       "      <td>11622476</td>\n",
       "      <td>901295</td>\n",
       "      <td>1970475</td>\n",
       "    </tr>\n",
       "    <tr>\n",
       "      <th>18</th>\n",
       "      <td>11840</td>\n",
       "      <td>44398436</td>\n",
       "      <td>62019710</td>\n",
       "    </tr>\n",
       "    <tr>\n",
       "      <th>19</th>\n",
       "      <td>1581052</td>\n",
       "      <td>21487063</td>\n",
       "      <td>62016955</td>\n",
       "    </tr>\n",
       "    <tr>\n",
       "      <th>20</th>\n",
       "      <td>2173069</td>\n",
       "      <td>62023480</td>\n",
       "      <td>62023480</td>\n",
       "    </tr>\n",
       "    <tr>\n",
       "      <th>21</th>\n",
       "      <td>2057118</td>\n",
       "      <td>62016955</td>\n",
       "      <td>28492614</td>\n",
       "    </tr>\n",
       "    <tr>\n",
       "      <th>22</th>\n",
       "      <td>11097156</td>\n",
       "      <td>62019710</td>\n",
       "      <td>692999</td>\n",
       "    </tr>\n",
       "    <tr>\n",
       "      <th>23</th>\n",
       "      <td>53542036</td>\n",
       "      <td>11840</td>\n",
       "      <td>2800115</td>\n",
       "    </tr>\n",
       "    <tr>\n",
       "      <th>24</th>\n",
       "      <td>95145105</td>\n",
       "      <td>126573189</td>\n",
       "      <td>10754267</td>\n",
       "    </tr>\n",
       "    <tr>\n",
       "      <th>25</th>\n",
       "      <td>95145104</td>\n",
       "      <td>28492614</td>\n",
       "      <td>902037</td>\n",
       "    </tr>\n",
       "    <tr>\n",
       "      <th>26</th>\n",
       "      <td>28782857</td>\n",
       "      <td>61358726</td>\n",
       "      <td>2774370</td>\n",
       "    </tr>\n",
       "    <tr>\n",
       "      <th>27</th>\n",
       "      <td>28782873</td>\n",
       "      <td>42857</td>\n",
       "      <td>901283</td>\n",
       "    </tr>\n",
       "    <tr>\n",
       "      <th>28</th>\n",
       "      <td>2054452</td>\n",
       "      <td>61356832</td>\n",
       "      <td>89781246</td>\n",
       "    </tr>\n",
       "    <tr>\n",
       "      <th>29</th>\n",
       "      <td>2306396</td>\n",
       "      <td>61356610</td>\n",
       "      <td>2801410</td>\n",
       "    </tr>\n",
       "  </tbody>\n",
       "</table>\n",
       "</div>"
      ],
      "text/plain": [
       "    Degree 1   Degree 2  Degree 3\n",
       "0    4730265   61356255  61356255\n",
       "1    3477460   61356831  61356831\n",
       "2    3280850   61743020  61743020\n",
       "3     515953   61727698  61727698\n",
       "4     316076  134115849    901295\n",
       "5     538819   29559485  61356261\n",
       "6    1713563   61359893  61359893\n",
       "7     515954   61356261  29559485\n",
       "8    1906162    1580642  91879629\n",
       "9    2055049    2196453  61727697\n",
       "10    539947   10645393  62024757\n",
       "11  32449032   62024757  91875621\n",
       "12   1645090    1970475  44589253\n",
       "13   2471305   61727697  61360057\n",
       "14   1645097   61360057   2196453\n",
       "15  12349107   44398592   1580642\n",
       "16    264734   62024579  62024579\n",
       "17  11622476     901295   1970475\n",
       "18     11840   44398436  62019710\n",
       "19   1581052   21487063  62016955\n",
       "20   2173069   62023480  62023480\n",
       "21   2057118   62016955  28492614\n",
       "22  11097156   62019710    692999\n",
       "23  53542036      11840   2800115\n",
       "24  95145105  126573189  10754267\n",
       "25  95145104   28492614    902037\n",
       "26  28782857   61358726   2774370\n",
       "27  28782873      42857    901283\n",
       "28   2054452   61356832  89781246\n",
       "29   2306396   61356610   2801410"
      ]
     },
     "execution_count": 236,
     "metadata": {},
     "output_type": "execute_result"
    }
   ],
   "source": [
    "top_cid_mix_df"
   ]
  },
  {
   "cell_type": "code",
   "execution_count": 237,
   "metadata": {},
   "outputs": [],
   "source": [
    "top_cid_mix_df.to_csv(\"TOP_CID_123.csv\")"
   ]
  },
  {
   "cell_type": "markdown",
   "metadata": {},
   "source": [
    " "
   ]
  },
  {
   "cell_type": "markdown",
   "metadata": {},
   "source": [
    " "
   ]
  },
  {
   "cell_type": "markdown",
   "metadata": {},
   "source": [
    " "
   ]
  },
  {
   "cell_type": "markdown",
   "metadata": {},
   "source": [
    "CODE FOR MOLECULAR DYNAMICS [RUN FOR ALL 3 SETS OF TOP 30 COMPOUNDS]"
   ]
  },
  {
   "cell_type": "code",
   "execution_count": null,
   "metadata": {},
   "outputs": [],
   "source": [
    "import urllib.request\n",
    "from os.path import expanduser\n",
    "import os\n",
    "home = expanduser(\"~\")\n",
    "assert (os.path.isdir(home+'/MGLTools-1.5.6')), \"AutoDockTools not found!\"\n",
    "#set preparation pathways\n",
    "prepare_protein_path = '~/MGLTools-1.5.6/bin/pythonsh ~/MGLTools-1.5.6/MGLToolsPckgs/AutoDockTools/Utilities24/prepare_receptor4.py -A bonds_hydrogens -U nphs_lps_waters_nonstdres -r'\n",
    "prepare_ligand_path = '~/MGLTools-1.5.6/bin/pythonsh ~/MGLTools-1.5.6/MGLToolsPckgs/AutoDockTools/Utilities24/prepare_ligand4.py -A bonds_hydrogens -U nphs_lps -l'"
   ]
  },
  {
   "cell_type": "code",
   "execution_count": null,
   "metadata": {},
   "outputs": [],
   "source": [
    "l=[]\n",
    "for itter in top_cid:\n",
    "    l.append(itter)\n",
    "for i in l:\n",
    "\n",
    "\n",
    "# download SDF\n",
    "\n",
    "\n",
    "    url = 'https://pubchem.ncbi.nlm.nih.gov/rest/pug/compound/cid/{}/SDF'.format(str(i))\n",
    "    urllib.request.urlretrieve(url, '{}'.format(str(i)+'.sdf'))\n",
    "    \n",
    "    \n",
    "#     ligand preparation\n",
    "    print(\"Preparing ligand {} for docking\".format(i))\n",
    "    os.system('obabel {} -O {} --gen3d --best'.format(str(i)+'.sdf', str(i)+'.mol2'))\n",
    "    os.system(prepare_ligand_path + '{}'.format(str(i)+'.mol2'))\n",
    "    \n",
    "    \n",
    "\n",
    "    \n",
    "    print(\"Running docking procedure for 6w9c\")\n",
    "    os.system(\n",
    "    'vina --config coordinatesandsetups6w9c.txt --receptor 6w9c.pdbqt --ligand {} --out {} --log {}'.format(\n",
    "    str(i)+'.pdbqt', str(i)+'.6w9c.pdbqt', str(i)+'.6w9c.log')\n",
    ")\n",
    "    print(\"Docking to 6w9c protein completed. Files saved as {} as docked complex and {} as a logfile\".format(\n",
    "        str(i)+'.6x9c.pdbqt',str(i)+'.6w9c.log'))\n",
    "    \n",
    "    \n",
    "    print(\"Running docking procedure for 1p9u\")\n",
    "    os.system(\n",
    "    'vina --config coordinatesandsetups1p9u.txt --receptor 1p9u.pdbqt --ligand {} --out {} --log {}'.format(\n",
    "    str(i)+'.pdbqt', str(i)+'.1p9u.pdbqt', str(i)+'.1p9u.log')\n",
    "    )\n",
    "    print(\"Docking to 1p9u protein completed. Files saved as {} as docked complex and {} as a logfile\".format(\n",
    "        str(i)+'.1p9u.pdbqt',str(i)+'.1p9u.log'))\n",
    "    \n",
    "\n",
    "            \n",
    "    \n",
    "    print(url)\n",
    "    \n",
    "    \n",
    "    input(\"Press any key to continue In Silico modelling for next lead compound\")\n"
   ]
  },
  {
   "cell_type": "code",
   "execution_count": null,
   "metadata": {},
   "outputs": [],
   "source": [
    "\"\"\"Now postprocessing the results\"\"\"\n",
    "import os, pandas as pd, requests\n",
    "from biopandas.pdb import PandasPdb\n",
    "\n",
    "for file in os.listdir():\n",
    "    if file.endswith('.6w9c.pdbqt'): \n",
    "        os.system(\"obabel {} -O {} -l 1\".format(file, file.strip('.6w9c.pdbqt')+'.best.pdb')) \n",
    "        prot_df = PandasPdb().read_pdb('6w9c.pdb') \n",
    "        flex_df = PandasPdb().read_pdb(file.strip('.6w9c.pdbqt')+'.best.pdb') \n",
    "        flex_df.df['ATOM']['chain_id'].replace(to_replace='A', value = \"X\", inplace = True)  \n",
    "        prot_df.df['ATOM'] = prot_df.df['ATOM'].append(flex_df.df['ATOM']) \n",
    "        prot_df.to_pdb(path='6w9c-{}.cplx.pdb'.format(file.strip('.6w9c.pdbqt')),records=['ATOM'],gz=False,\n",
    "                     append_newline=True) \n",
    "    if file.endswith('.1p9u.pdbqt'):\n",
    "        os.system(\"obabel {} -O {} -l 1\".format(file, file.strip('.1p9u.pdbqt')+'.best.pdb')) \n",
    "        prot_df = PandasPdb().read_pdb('1p9u.pdb') # read protein file\n",
    "        flex_df = PandasPdb().read_pdb(file.strip('.1p9u.pdbqt')+'.best.pdb') \n",
    "        flex_df.df['ATOM']['chain_id'].replace(to_replace='A', value = \"X\", inplace = True)   \n",
    "        prot_df.df['ATOM'] = prot_df.df['ATOM'].append(flex_df.df['ATOM']) \n",
    "        prot_df.to_pdb(path='1p9u-{}.cplx.pdb'.format(file.strip('.1p9u.pdbqt')),records=['ATOM'],gz=False,\n",
    "                     append_newline=True) \n",
    "                \n",
    "        "
   ]
  },
  {
   "cell_type": "code",
   "execution_count": null,
   "metadata": {},
   "outputs": [],
   "source": [
    "\"\"\"Upload pdb and download img\"\"\"\n",
    "from selenium import webdriver\n",
    "from selenium.webdriver.common.keys import Keys\n",
    "from selenium.webdriver.firefox.options import Options\n",
    "import time"
   ]
  },
  {
   "cell_type": "code",
   "execution_count": null,
   "metadata": {},
   "outputs": [],
   "source": [
    "options=Options()\n",
    "# options.headless = True\n",
    "plip = webdriver.Firefox(options=options)\n",
    "plip.get(\"https://projects.biotec.tu-dresden.de/plip-web/plip\")\n",
    "print(\"Connection successful\")\n",
    "\n",
    "for cplx in os.listdir():\n",
    "    if cplx.endswith('.cplx.pdb'):\n",
    "        print(\"Processing file {}\".format(cplx))\n",
    "    \n",
    "        select_pdb_input = plip.find_element_by_xpath(\"//*[@id='select-pdb-by-file']\").click() \n",
    "\n",
    "        browse = plip.find_element_by_xpath(\n",
    "            '/html/body/div[1]/div[2]/div/form/div[1]/div[1]/div[3]/input'\n",
    "        ).send_keys(                                                       \n",
    "            os.getcwd()+'/{}'.format(cplx)\n",
    "        )\n",
    "\n",
    "        send_file = plip.find_element_by_xpath(\"//*[@id='submit']\").click() \n",
    "        time.sleep(10) \n",
    "        try:\n",
    "            try:\n",
    "                open_interactions_1 = plip.find_element_by_xpath('/html/body/div/div[2]/div/div[1]/h2[2]').click()\n",
    "                open_interactions_2 = plip.find_element_by_xpath('/html/body/div[1]/div[2]/div/div[1]/div[2]/h3').click()\n",
    "                open_interactions_3 = plip.find_element_by_xpath('/html/body/div[1]/div[2]/div/div[1]/div[2]/div/h4').click()\n",
    "                pngs = plip.find_elements_by_xpath(\"//a[contains(@href,'.png')]\")\n",
    "                pymolsessions = plip.find_elements_by_xpath(\"//a[contains(@href,'.pse')]\")\n",
    "                \n",
    "            except:\n",
    "                open_interactions_1 = plip.find_element_by_xpath('/html/body/div[1]/div[2]/div/div[1]/h2[1]').click()\n",
    "                open_interactions_2 = plip.find_element_by_xpath('/html/body/div[1]/div[2]/div/div[1]/div[1]/h3').click()\n",
    "                open_interactions_3 = plip.find_element_by_xpath('/html/body/div[1]/div[2]/div/div[1]/div[1]/div/h4').click()\n",
    "                pngs = plip.find_elements_by_xpath(\"//a[contains(@href,'.png')]\")\n",
    "                pymolsessions = plip.find_elements_by_xpath(\"//a[contains(@href,'.pse')]\")\n",
    "\n",
    "            for image in pngs:\n",
    "                print(image.get_attribute(\"href\"))\n",
    "                output_image = requests.get(image.get_attribute(\"href\"))\n",
    "                open(\n",
    "                    os.getcwd()+'/{}'.format(cplx+'.png'), 'wb'\n",
    "                ).write(output_image.content)\n",
    "                print(\"Image saved as {}\".format(cplx+'.png'))\n",
    "\n",
    "            for pysession in pymolsessions:\n",
    "                print(pysession.get_attribute(\"href\"))\n",
    "                pse = requests.get(pysession.get_attribute(\"href\"))\n",
    "                open(\n",
    "                    os.getcwd()+'/{}'.format(cplx+'.pse'), 'wb'\n",
    "                ).write(pse.content)\n",
    "                print(\"Pymol sessions saved as {}\".format(cplx+'.pse'))\n",
    "                  \n",
    "            restart_plip = plip.find_element_by_xpath('/html/body/div[1]/div[2]/div/p[3]/a').click()\n",
    "            time.sleep(5)\n",
    "        except:\n",
    "            print(\"No interactions found for {} or damaged structure\".format(cplx))\n",
    "            try:\n",
    "                restart_plip = plip.find_element_by_xpath('/html/body/div[1]/div[2]/div/p[3]/a').click()\n",
    "                time.sleep(5)\n",
    "            except:\n",
    "                restart_plip = plip.find_element_by_xpath('/html/body/div[1]/div[2]/div[2]/p/a').click() "
   ]
  },
  {
   "cell_type": "markdown",
   "metadata": {},
   "source": [
    " "
   ]
  },
  {
   "cell_type": "markdown",
   "metadata": {},
   "source": [
    "PROJECT ENDS"
   ]
  }
 ],
 "metadata": {
  "kernelspec": {
   "display_name": "Python 3",
   "language": "python",
   "name": "python3"
  }
 },
 "nbformat": 4,
 "nbformat_minor": 2
}
